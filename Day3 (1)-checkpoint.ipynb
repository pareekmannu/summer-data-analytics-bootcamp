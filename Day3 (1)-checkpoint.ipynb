{
 "cells": [
  {
   "cell_type": "code",
   "execution_count": 24,
   "id": "d3353c1d-1c07-49d2-959b-db6c56d2ce51",
   "metadata": {},
   "outputs": [],
   "source": [
    "#Functions\n",
    "# --------------------\n",
    "# dev div(parameters & arguments )\n",
    "#div()\n",
    "#----------------------"
   ]
  },
  {
   "cell_type": "code",
   "execution_count": 29,
   "id": "d5e667c2-e9a4-4ac9-8999-4c8ca838c80a",
   "metadata": {},
   "outputs": [],
   "source": [
    "# Keyword arguments\n",
    "def student(name,age):\n",
    "    print(name, \"is\", age, \"year old\")\n",
    "\n",
    "student(age=21, name=\"Suraj\")"
   ]
  },
  {
   "cell_type": "code",
   "execution_count": 39,
   "id": "53f84c95-94e2-424a-a343-2adff5948983",
   "metadata": {},
   "outputs": [
    {
     "name": "stdout",
     "output_type": "stream",
     "text": [
      "All marks:  (80, 40, 30, 30)\n"
     ]
    },
    {
     "ename": "TypeError",
     "evalue": "sum() missing 1 required positional argument: 'b'",
     "output_type": "error",
     "traceback": [
      "\u001b[1;31m---------------------------------------------------------------------------\u001b[0m",
      "\u001b[1;31mTypeError\u001b[0m                                 Traceback (most recent call last)",
      "Cell \u001b[1;32mIn[39], line 6\u001b[0m\n\u001b[0;32m      3\u001b[0m     \u001b[38;5;28mprint\u001b[39m(\u001b[38;5;124m\"\u001b[39m\u001b[38;5;124mAll marks: \u001b[39m\u001b[38;5;124m\"\u001b[39m, marks)\n\u001b[0;32m      4\u001b[0m     \u001b[38;5;28mprint\u001b[39m(\u001b[38;5;124m\"\u001b[39m\u001b[38;5;124mTotal: \u001b[39m\u001b[38;5;124m\"\u001b[39m, \u001b[38;5;28msum\u001b[39m(marks))\n\u001b[1;32m----> 6\u001b[0m total_marks(\u001b[38;5;241m80\u001b[39m, \u001b[38;5;241m40\u001b[39m, \u001b[38;5;241m30\u001b[39m, \u001b[38;5;241m30\u001b[39m)\n",
      "Cell \u001b[1;32mIn[39], line 4\u001b[0m, in \u001b[0;36mtotal_marks\u001b[1;34m(*marks)\u001b[0m\n\u001b[0;32m      2\u001b[0m \u001b[38;5;28;01mdef\u001b[39;00m\u001b[38;5;250m \u001b[39m\u001b[38;5;21mtotal_marks\u001b[39m(\u001b[38;5;241m*\u001b[39mmarks):\n\u001b[0;32m      3\u001b[0m     \u001b[38;5;28mprint\u001b[39m(\u001b[38;5;124m\"\u001b[39m\u001b[38;5;124mAll marks: \u001b[39m\u001b[38;5;124m\"\u001b[39m, marks)\n\u001b[1;32m----> 4\u001b[0m     \u001b[38;5;28mprint\u001b[39m(\u001b[38;5;124m\"\u001b[39m\u001b[38;5;124mTotal: \u001b[39m\u001b[38;5;124m\"\u001b[39m, \u001b[38;5;28msum\u001b[39m(marks))\n",
      "\u001b[1;31mTypeError\u001b[0m: sum() missing 1 required positional argument: 'b'"
     ]
    }
   ],
   "source": [
    "# Variable Length Argument multi positional\n",
    "def total_marks(*marks):\n",
    "    print(\"All marks: \", marks)\n",
    "    print(\"Total: \", sum(marks))\n",
    "\n",
    "total_marks(80, 40, 30, 30)"
   ]
  },
  {
   "cell_type": "code",
   "execution_count": 38,
   "id": "9fd4b7e3-5630-41ea-9519-cfa9387c746b",
   "metadata": {},
   "outputs": [
    {
     "name": "stdout",
     "output_type": "stream",
     "text": [
      "Hello suraj\n",
      "Hello Divyank\n"
     ]
    }
   ],
   "source": [
    "#Default Argument\n",
    "def greet(name=\"suraj\"):\n",
    "    print(\"Hello\",name)\n",
    "greet()\n",
    "greet(\"Divyank\")"
   ]
  },
  {
   "cell_type": "code",
   "execution_count": null,
   "id": "0a142859-60b8-4f8c-a34b-c1cd5bc59630",
   "metadata": {},
   "outputs": [],
   "source": []
  },
  {
   "cell_type": "code",
   "execution_count": 25,
   "id": "9cb8af6b-5257-4d92-a448-286a7808051e",
   "metadata": {},
   "outputs": [],
   "source": [
    "# a=5\n",
    "# b=3\n",
    "def sum(a,b):\n",
    "   print(a+b)\n",
    "sum(4,5)"
   ]
  },
  {
   "cell_type": "code",
   "execution_count": 26,
   "id": "ac69e739-3b75-49c5-85a4-27ec7277ad83",
   "metadata": {},
   "outputs": [],
   "source": [
    "def even():\n",
    "    for i in range(2,50,2):\n",
    "        print(i)\n",
    "even()"
   ]
  },
  {
   "cell_type": "code",
   "execution_count": 27,
   "id": "b9140177-5595-4c22-bb29-ab730ce40755",
   "metadata": {},
   "outputs": [],
   "source": [
    "def even():\n",
    "    for i in range(2,15,2):\n",
    "        if i%2==0:\n",
    "            print(i)\n",
    "even()"
   ]
  },
  {
   "cell_type": "code",
   "execution_count": null,
   "id": "a8d7ee1a-6c29-4436-b073-5120b3834573",
   "metadata": {},
   "outputs": [],
   "source": [
    "def "
   ]
  },
  {
   "cell_type": "code",
   "execution_count": null,
   "id": "edce51f7-2b24-4ca0-8215-c445f81813b9",
   "metadata": {},
   "outputs": [],
   "source": []
  },
  {
   "cell_type": "code",
   "execution_count": null,
   "id": "63091589-ea34-44d4-bcb3-a411e5f8324b",
   "metadata": {},
   "outputs": [],
   "source": []
  },
  {
   "cell_type": "code",
   "execution_count": null,
   "id": "d9952988-65a7-464b-946c-4dea83117599",
   "metadata": {},
   "outputs": [],
   "source": []
  }
 ],
 "metadata": {
  "kernelspec": {
   "display_name": "Python [conda env:base] *",
   "language": "python",
   "name": "conda-base-py"
  },
  "language_info": {
   "codemirror_mode": {
    "name": "ipython",
    "version": 3
   },
   "file_extension": ".py",
   "mimetype": "text/x-python",
   "name": "python",
   "nbconvert_exporter": "python",
   "pygments_lexer": "ipython3",
   "version": "3.13.5"
  }
 },
 "nbformat": 4,
 "nbformat_minor": 5
}
