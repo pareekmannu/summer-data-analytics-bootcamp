{
 "cells": [
  {
   "cell_type": "code",
   "execution_count": 3,
   "id": "16d719cd-6683-4e93-885f-09093db4ed1b",
   "metadata": {},
   "outputs": [
    {
     "name": "stdout",
     "output_type": "stream",
     "text": [
      "<class 'str'>\n"
     ]
    }
   ],
   "source": [
    "a=1\n",
    "b=str(a)\n",
    "print(type(b))"
   ]
  },
  {
   "cell_type": "code",
   "execution_count": null,
   "id": "af39004e-8cf4-4415-b69a-715c7a6f789d",
   "metadata": {},
   "outputs": [],
   "source": [
    "#arthematic operators"
   ]
  },
  {
   "cell_type": "code",
   "execution_count": 4,
   "id": "da0997e5-703f-46b8-a4da-09d8c21e926b",
   "metadata": {},
   "outputs": [
    {
     "name": "stdout",
     "output_type": "stream",
     "text": [
      "3\n"
     ]
    }
   ],
   "source": [
    "a=3\n",
    "b=4\n",
    "c=a+b\n",
    "print(a)"
   ]
  },
  {
   "cell_type": "code",
   "execution_count": 13,
   "id": "764b2a14-4729-4838-a4ed-d8eba03bfdbe",
   "metadata": {},
   "outputs": [
    {
     "name": "stdin",
     "output_type": "stream",
     "text": [
      "enter your no. 2\n",
      "enter your no. 2\n"
     ]
    },
    {
     "name": "stdout",
     "output_type": "stream",
     "text": [
      "4\n"
     ]
    }
   ],
   "source": [
    "a=int(input(\"enter your no.\"))\n",
    "b=int(input(\"enter your no.\"))\n",
    "c=a+b \n",
    "print(c)"
   ]
  },
  {
   "cell_type": "code",
   "execution_count": null,
   "id": "4b891a01-bb2e-4951-93cc-e0c5060babeb",
   "metadata": {},
   "outputs": [],
   "source": [
    "#comparison operator "
   ]
  },
  {
   "cell_type": "code",
   "execution_count": null,
   "id": "2df9e20e-5bd1-4a26-8868-0564c0f9dc47",
   "metadata": {},
   "outputs": [],
   "source": [
    "<,>,<=,<=,!="
   ]
  },
  {
   "cell_type": "code",
   "execution_count": 14,
   "id": "cd493774-f629-44e7-b38b-fc35e74f8c09",
   "metadata": {},
   "outputs": [
    {
     "name": "stdout",
     "output_type": "stream",
     "text": [
      "False\n"
     ]
    }
   ],
   "source": [
    "a=12\n",
    "b=15\n",
    "print(a>b)\n"
   ]
  },
  {
   "cell_type": "code",
   "execution_count": 16,
   "id": "259bcaf6-387c-4e79-b1be-06d99ba7bb21",
   "metadata": {},
   "outputs": [
    {
     "name": "stdout",
     "output_type": "stream",
     "text": [
      "False\n"
     ]
    }
   ],
   "source": [
    "a=12\n",
    "b=15\n",
    "print(a==b)\n"
   ]
  },
  {
   "cell_type": "code",
   "execution_count": 24,
   "id": "be307c7d-72e9-41fe-a7c5-120adc909984",
   "metadata": {},
   "outputs": [
    {
     "name": "stdin",
     "output_type": "stream",
     "text": [
      "enter your no. 20\n",
      "enter your no. 30\n",
      "enter your no. 40\n"
     ]
    },
    {
     "name": "stdout",
     "output_type": "stream",
     "text": [
      "false\n",
      "true \n"
     ]
    }
   ],
   "source": [
    "x=int(input(\"enter your no.\"))\n",
    "y=int(input(\"enter your no.\"))\n",
    "z= int(input(\"enter your no.\"))\n",
    "  \n",
    "sum = x+y+z\n",
    "\n",
    "average= sum/3\n",
    "if(average >50):\n",
    "    print(\"true\" )\n",
    "else:\n",
    "    print(\"false\")\n",
    "if(sum%5==0):\n",
    "    print(\"true \")\n",
    "else :\n",
    "    print(\"false\") "
   ]
  },
  {
   "cell_type": "code",
   "execution_count": 5,
   "id": "befa6776-68ac-44f5-a581-8b18f229d824",
   "metadata": {},
   "outputs": [
    {
     "name": "stdout",
     "output_type": "stream",
     "text": [
      "0.75\n"
     ]
    }
   ],
   "source": [
    "a=3\n",
    "b=4\n",
    "c=a/b\n",
    "print(c)"
   ]
  },
  {
   "cell_type": "code",
   "execution_count": 6,
   "id": "ad662899-473a-4e1a-a672-ec9ceac7e22a",
   "metadata": {},
   "outputs": [
    {
     "name": "stdout",
     "output_type": "stream",
     "text": [
      "0\n"
     ]
    }
   ],
   "source": [
    "a=3\n",
    "b=4\n",
    "c=a//b\n",
    "a=print(c)"
   ]
  },
  {
   "cell_type": "code",
   "execution_count": 8,
   "id": "aff4ea01-71bb-4e48-8b7a-96963ef03ea4",
   "metadata": {},
   "outputs": [
    {
     "name": "stdout",
     "output_type": "stream",
     "text": [
      "12\n"
     ]
    }
   ],
   "source": [
    "a=3\n",
    "b=4\n",
    "c=a*b\n",
    "a=print(c)"
   ]
  },
  {
   "cell_type": "code",
   "execution_count": 9,
   "id": "86115ee6-5743-4508-817f-5722fc82850a",
   "metadata": {},
   "outputs": [
    {
     "name": "stdout",
     "output_type": "stream",
     "text": [
      "-1\n"
     ]
    }
   ],
   "source": [
    "a=3\n",
    "b=4\n",
    "c=a-b\n",
    "a=print(c)"
   ]
  },
  {
   "cell_type": "code",
   "execution_count": 10,
   "id": "ee46d35a-fede-4491-9e9f-65b4481d384d",
   "metadata": {},
   "outputs": [
    {
     "name": "stdout",
     "output_type": "stream",
     "text": [
      "81\n"
     ]
    }
   ],
   "source": [
    "a=3\n",
    "b=4\n",
    "c=a**b\n",
    "a=print(c)"
   ]
  },
  {
   "cell_type": "code",
   "execution_count": 1,
   "id": "70ddd1e0-6652-4413-b4f4-208ee6b53ad2",
   "metadata": {},
   "outputs": [
    {
     "name": "stdout",
     "output_type": "stream",
     "text": [
      "False\n"
     ]
    }
   ],
   "source": [
    "a=4\n",
    "b=3\n",
    "print(a>b and a==b)"
   ]
  },
  {
   "cell_type": "code",
   "execution_count": 4,
   "id": "9d5e6f34-ec98-4d40-b5ae-7ef5ffd2a160",
   "metadata": {},
   "outputs": [
    {
     "name": "stdout",
     "output_type": "stream",
     "text": [
      "True\n"
     ]
    }
   ],
   "source": [
    "a=4\n",
    "b=3\n",
    "print(a>b or a==b)"
   ]
  },
  {
   "cell_type": "code",
   "execution_count": 12,
   "id": "7a52d26d-eb05-431e-becd-2eebd8062f6e",
   "metadata": {},
   "outputs": [
    {
     "name": "stdout",
     "output_type": "stream",
     "text": [
      "False True\n"
     ]
    }
   ],
   "source": [
    "a=4\n",
    "b=3\n",
    "print(not (a>b), not (a==b))"
   ]
  },
  {
   "cell_type": "code",
   "execution_count": 14,
   "id": "cfeea5c8-8725-4497-a69b-2d303b7c26bd",
   "metadata": {},
   "outputs": [
    {
     "name": "stdout",
     "output_type": "stream",
     "text": [
      "2\n",
      "3\n",
      "4\n",
      "5\n"
     ]
    }
   ],
   "source": [
    "a=[2,3,4,5]\n",
    "for x in a:\n",
    "    print(x)"
   ]
  },
  {
   "cell_type": "code",
   "execution_count": 20,
   "id": "77d62f02-d53c-497e-aecc-8898c198bc15",
   "metadata": {},
   "outputs": [
    {
     "name": "stdout",
     "output_type": "stream",
     "text": [
      "False\n"
     ]
    }
   ],
   "source": [
    "a=\"python is imp\"\n",
    "print(\"is\" not in a)"
   ]
  },
  {
   "cell_type": "code",
   "execution_count": 32,
   "id": "1251144d-873a-452d-9257-656a7efa63c1",
   "metadata": {},
   "outputs": [
    {
     "name": "stdin",
     "output_type": "stream",
     "text": [
      "Enter number 1 :  4\n",
      "Enter number 2 :  5\n"
     ]
    },
    {
     "name": "stdout",
     "output_type": "stream",
     "text": [
      "9\n",
      "20\n",
      "Not equal\n",
      "Num1 is smaller\n",
      "False\n",
      "True\n"
     ]
    }
   ],
   "source": [
    "num1=int(input(\"Enter number 1 : \"))\n",
    "num2=int(input(\"Enter number 2 : \"))\n",
    "d=[10,20,30,40,50]\n",
    "a=num1+num2\n",
    "b=num1*num2\n",
    "\n",
    "print(a)\n",
    "print(b)\n",
    "\n",
    "if(num1==num2):\n",
    "    print(\"It is equal\")\n",
    "else:\n",
    "    print(\"Not equal\")\n",
    "\n",
    "if(num1>num2):\n",
    "    print(\"Num1 is equal\")\n",
    "else:\n",
    "    print(\"Num1 is smaller\")\n",
    "    print(a in d)\n",
    "    print(b in d)\n"
   ]
  },
  {
   "cell_type": "code",
   "execution_count": 40,
   "id": "9ba83e06-f982-4041-8231-dbbf4541e0a6",
   "metadata": {},
   "outputs": [
    {
     "name": "stdin",
     "output_type": "stream",
     "text": [
      "Enter number 1 :  4\n",
      "Enter number 2 :  5\n"
     ]
    },
    {
     "name": "stdout",
     "output_type": "stream",
     "text": [
      "9\n",
      "20\n",
      "Not equal\n",
      "Num1 is smaller\n",
      "False\n",
      "True\n",
      "False\n",
      "True\n"
     ]
    }
   ],
   "source": [
    "num1=int(input(\"Enter number 1 : \"))\n",
    "num2=int(input(\"Enter number 2 : \"))\n",
    "d=[10,20,30,40,50]\n",
    "a=num1+num2\n",
    "b=num1*num2\n",
    "\n",
    "print(a)\n",
    "print(b)\n",
    "\n",
    "if(num1 is num2):\n",
    "    print(\"It is equal\")\n",
    "else:\n",
    "    print(\"Not equal\")\n",
    "\n",
    "if(num1>num2):\n",
    "    print(\"Num1 is equal\")\n",
    "else:\n",
    "    print(\"Num1 is smaller\")\n",
    "    print(a in d)\n",
    "    print(b in d)\n",
    "\n",
    "print(a is d)\n",
    "print(b in d)"
   ]
  },
  {
   "cell_type": "code",
   "execution_count": 18,
   "id": "a23eed5b-e854-4062-8602-e221aae88bb0",
   "metadata": {},
   "outputs": [
    {
     "name": "stdin",
     "output_type": "stream",
     "text": [
      "Enter name of product like ghee ,  spanich  ghee\n"
     ]
    },
    {
     "name": "stdout",
     "output_type": "stream",
     "text": [
      "your bill is  50\n"
     ]
    }
   ],
   "source": [
    "#BILL MANGEMENT System \n",
    "\n",
    "ghee =50\n",
    "spanich =100\n",
    "product = str(input(\"Enter name of product like ghee ,  spanich \"))\n",
    "if \"ghee\" in product:\n",
    "    productprize=ghee\n",
    "    print(\"your bill is \",productprize )\n",
    "elif \"spanich\" in product:\n",
    "    productprize=spanich\n",
    "    print(\"your bill is \",productprize )\n",
    "\n",
    "\n"
   ]
  },
  {
   "cell_type": "code",
   "execution_count": 19,
   "id": "6bc68fff-f639-4fbf-8b81-81ef70296876",
   "metadata": {},
   "outputs": [
    {
     "name": "stdout",
     "output_type": "stream",
     "text": [
      "12.0\n"
     ]
    }
   ],
   "source": [
    "#adding diff data types \n",
    "a= 5 \n",
    "b= 7.0\n",
    "c =(a+b)\n",
    "print(c)"
   ]
  },
  {
   "cell_type": "code",
   "execution_count": 23,
   "id": "fc823618-71f7-49ed-b3d3-7143212d2997",
   "metadata": {},
   "outputs": [
    {
     "name": "stdin",
     "output_type": "stream",
     "text": [
      "Enter number 1 :  1\n",
      "Enter name :  kanishk\n"
     ]
    },
    {
     "name": "stdout",
     "output_type": "stream",
     "text": [
      "1kanishk\n"
     ]
    }
   ],
   "source": [
    "num1=int(input(\"Enter number 1 : \"))\n",
    "str2=input(\"Enter name : \")\n",
    "sum= str(num1)+str2\n",
    "print(sum)"
   ]
  },
  {
   "cell_type": "code",
   "execution_count": 2,
   "id": "3cc3f23d-d6f6-433e-a408-6a9a2f794a1f",
   "metadata": {},
   "outputs": [
    {
     "name": "stdout",
     "output_type": "stream",
     "text": [
      "False\n"
     ]
    }
   ],
   "source": [
    "x = 0\n",
    "if x:\n",
    "    print('True')\n",
    "else:\n",
    "    print('False')\n",
    "    "
   ]
  },
  {
   "cell_type": "code",
   "execution_count": 3,
   "id": "321fce34-46f2-4fef-941f-a78e104f3865",
   "metadata": {},
   "outputs": [
    {
     "data": {
      "text/plain": [
       "'123'"
      ]
     },
     "execution_count": 3,
     "metadata": {},
     "output_type": "execute_result"
    }
   ],
   "source": [
    "str(123) \n"
   ]
  },
  {
   "cell_type": "code",
   "execution_count": 4,
   "id": "3406b152-4113-4d98-aa22-a777d2b7af2c",
   "metadata": {},
   "outputs": [
    {
     "name": "stdout",
     "output_type": "stream",
     "text": [
      "B\n"
     ]
    }
   ],
   "source": [
    "if 10 < 2:\n",
    "    print('A')\n",
    "else:\n",
    "    print('B')"
   ]
  },
  {
   "cell_type": "code",
   "execution_count": 5,
   "id": "9c208be2-61e4-4913-835d-cf13d948f10d",
   "metadata": {},
   "outputs": [
    {
     "name": "stdout",
     "output_type": "stream",
     "text": [
      "A\n"
     ]
    }
   ],
   "source": [
    "x = 10\n",
    "if x > 5:\n",
    "    print('A')\n",
    "elif x > 3:\n",
    "    print('B')\n",
    "else:\n",
    "    print('C')"
   ]
  },
  {
   "cell_type": "code",
   "execution_count": 54,
   "id": "96ee66b0-39d0-4f1e-8375-b73aa8684f19",
   "metadata": {},
   "outputs": [
    {
     "name": "stdin",
     "output_type": "stream",
     "text": [
      "Enter number 1 :  8\n"
     ]
    },
    {
     "name": "stdout",
     "output_type": "stream",
     "text": [
      "positive\n"
     ]
    }
   ],
   "source": [
    "#Write a Python program to check whether a number entered by the user is positive or negative.\n",
    "\n",
    "num1=int(input(\"Enter number 1 : \"))\n",
    "\n",
    "if num1>0:\n",
    "    print(\"positive\")\n",
    "elif num1<0:\n",
    "    print(\"negative\")\n",
    "elif num1==0:\n",
    "    print(\"zero\")\n",
    "\n"
   ]
  },
  {
   "cell_type": "code",
   "execution_count": 13,
   "id": "319fed8d-3a5e-4d39-94d0-4280c4714d16",
   "metadata": {},
   "outputs": [
    {
     "name": "stdin",
     "output_type": "stream",
     "text": [
      "Enter your age  :  11\n"
     ]
    },
    {
     "name": "stdout",
     "output_type": "stream",
     "text": [
      "child\n"
     ]
    }
   ],
   "source": [
    "#Take user input for age. Print 'Child' if age < 13, 'Teen' if age < 18, 'Adult' otherwise.\n",
    "age=int(input(\"Enter your age  : \"))\n",
    "\n",
    "if age>18:\n",
    "    print(\"adult\")\n",
    "elif age<13:\n",
    "    print(\"child\")\n",
    "elif age<18 and age>13:\n",
    "    print(\"teen\")\n",
    "\n",
    "\n"
   ]
  },
  {
   "cell_type": "code",
   "execution_count": 16,
   "id": "4205e33c-d4dc-4b27-a2e0-3440c2804981",
   "metadata": {},
   "outputs": [
    {
     "name": "stdin",
     "output_type": "stream",
     "text": [
      "Enter your num:  8\n"
     ]
    },
    {
     "name": "stdout",
     "output_type": "stream",
     "text": [
      "even\n",
      "it is not \n"
     ]
    }
   ],
   "source": [
    "#Write a Python program that checks if a number is even or odd using if-else.\n",
    "\n",
    "\n",
    "num=int(input(\"Enter your num: \"))\n",
    "if (num%2==0):\n",
    "  print(\"even\")\n",
    "  if num>10:\n",
    "    print(\"yes it is greater \")\n",
    "  else:\n",
    "      print(\"it is not \")\n",
    "  "
   ]
  },
  {
   "cell_type": "code",
   "execution_count": 29,
   "id": "be7f6a5a-aab2-4bb8-8622-f61d6c774239",
   "metadata": {},
   "outputs": [
    {
     "name": "stdin",
     "output_type": "stream",
     "text": [
      "Enter your num:  78\n"
     ]
    },
    {
     "name": "stdout",
     "output_type": "stream",
     "text": [
      "grade b\n"
     ]
    }
   ],
   "source": [
    "#Write a program to check grades:\n",
    "#>90: A\n",
    "#>75: B\n",
    "#>60: C\n",
    "#Else: Fail\n",
    "num=int(input(\"Enter your num: \"))\n",
    "if(num>90):\n",
    "    print(\"grade A\")\n",
    "elif(num<90 and num>75):\n",
    "    print(\"grade b\")\n",
    "elif (num<75 and num>60):\n",
    "    print(\" grade c \")\n",
    "else:\n",
    "    print(\"fail\")"
   ]
  },
  {
   "cell_type": "code",
   "execution_count": 47,
   "id": "a0d2f3fb-ec47-4eb0-9981-e35bc7374c4c",
   "metadata": {},
   "outputs": [
    {
     "name": "stdin",
     "output_type": "stream",
     "text": [
      "enter a str  kana\n"
     ]
    },
    {
     "name": "stdout",
     "output_type": "stream",
     "text": [
      "length is lesser than 5\n"
     ]
    }
   ],
   "source": [
    "a=input(\"enter a str \")\n",
    "\n",
    "if len(a)>=5:\n",
    "    print(\"Length is greater than or equal to 5\")\n",
    "\n",
    "else:\n",
    "    print(\"length is lesser than 5\")"
   ]
  },
  {
   "cell_type": "code",
   "execution_count": 40,
   "id": "a158de13-1805-4845-bd23-c8d4ef22d502",
   "metadata": {},
   "outputs": [
    {
     "name": "stdin",
     "output_type": "stream",
     "text": [
      "Enter your num:  4\n",
      "Enter your num:  7\n",
      "Enter your num:  9\n"
     ]
    },
    {
     "name": "stdout",
     "output_type": "stream",
     "text": [
      "greater = 9\n"
     ]
    }
   ],
   "source": [
    "#Ask user to input 3 numbers and print the greatest using nested if.\n",
    "num=int(input(\"Enter your num: \"))\n",
    "num2=int(input(\"Enter your num: \"))\n",
    "num3=int(input(\"Enter your num: \"))\n",
    "if(num>num2):\n",
    "    if(num>num3):\n",
    "        print(\"greater =\",num)\n",
    "    else:\n",
    "        print(\"greater =\",num3)\n",
    "else:\n",
    "    if num2>num3:\n",
    "        print(\"greater =\",num2)\n",
    "    else:\n",
    "        print(\"greater =\",num3)\n",
    "\n",
    "# if:\n",
    "#     print(\"greater =\",num3)\n",
    "\n"
   ]
  },
  {
   "cell_type": "code",
   "execution_count": 42,
   "id": "bdedb194-29fe-4b1a-b5f3-9fd4ee6ea197",
   "metadata": {},
   "outputs": [
    {
     "name": "stdin",
     "output_type": "stream",
     "text": [
      "Enter your AGE  24\n"
     ]
    },
    {
     "name": "stdout",
     "output_type": "stream",
     "text": [
      "eligible for vote \n"
     ]
    }
   ],
   "source": [
    "\n",
    "age =int(input(\"Enter your AGE \"))\n",
    "if(age>18):\n",
    "    print(\"eligible for vote \")\n",
    "elif(age<18 and age>0):\n",
    "    print(\"not eligible \")\n"
   ]
  },
  {
   "cell_type": "code",
   "execution_count": 62,
   "id": "221c5604-6913-434f-9cb0-96dd90c92179",
   "metadata": {},
   "outputs": [
    {
     "name": "stdin",
     "output_type": "stream",
     "text": [
      "Enter your table   6\n"
     ]
    },
    {
     "name": "stdout",
     "output_type": "stream",
     "text": [
      "6\n",
      "12\n",
      "18\n",
      "24\n",
      "30\n",
      "36\n",
      "42\n",
      "48\n",
      "54\n",
      "60\n"
     ]
    }
   ],
   "source": [
    "a =int(input(\"Enter your table  \")) \n",
    "j=1 \n",
    "while(j<=10):\n",
    "    b=a*j\n",
    "    print(b)\n",
    "    j=j+1\n"
   ]
  },
  {
   "cell_type": "code",
   "execution_count": 20,
   "id": "6816440c-25a6-4284-8906-1f840c5de3b1",
   "metadata": {},
   "outputs": [
    {
     "name": "stdin",
     "output_type": "stream",
     "text": [
      "enter your password  kanishk\n"
     ]
    },
    {
     "name": "stdout",
     "output_type": "stream",
     "text": [
      "access granted\n"
     ]
    }
   ],
   "source": [
    "password = \"kanishk\"\n",
    "i=3\n",
    "while (i>0):\n",
    "    value = input(\"enter your password \")\n",
    "    if value == password:\n",
    "        print(\"access granted\")\n",
    "        break\n",
    "    else:\n",
    "        print(f\"wrong password ! you have {i} attempt \")\n",
    "        i=i-1\n",
    "        "
   ]
  },
  {
   "cell_type": "code",
   "execution_count": null,
   "id": "86187d4c-2b88-47b3-93c8-2a639706dbd5",
   "metadata": {},
   "outputs": [],
   "source": [
    "#initialization of sets = { f,d,d,,df,f,}\n",
    "#nitialization of tuple = ( f,d,d,,df,f,)\n",
    "#initialization of list = [ f,d,d,,df,f,]"
   ]
  },
  {
   "cell_type": "code",
   "execution_count": 22,
   "id": "74b88a78-5d55-4441-810e-050a31388be5",
   "metadata": {
    "scrolled": true
   },
   "outputs": [
    {
     "ename": "IndentationError",
     "evalue": "expected an indented block after 'for' statement on line 1 (3695896917.py, line 2)",
     "output_type": "error",
     "traceback": [
      "\u001b[1;36m  Cell \u001b[1;32mIn[22], line 2\u001b[1;36m\u001b[0m\n\u001b[1;33m    print(i)\u001b[0m\n\u001b[1;37m    ^\u001b[0m\n\u001b[1;31mIndentationError\u001b[0m\u001b[1;31m:\u001b[0m expected an indented block after 'for' statement on line 1\n"
     ]
    }
   ],
   "source": [
    "\n",
    "for i in range(5):\n",
    "print(i)"
   ]
  },
  {
   "cell_type": "code",
   "execution_count": 28,
   "id": "b686a389-586c-4021-8195-f607f8bb06f8",
   "metadata": {},
   "outputs": [],
   "source": [
    "if 0:\n",
    "    print('Yes')"
   ]
  },
  {
   "cell_type": "code",
   "execution_count": 30,
   "id": "3e6789de-6ac2-417d-8915-ce586ad89264",
   "metadata": {},
   "outputs": [],
   "source": [
    "for i in range(3):\n",
    "    if i == 1:\n",
    "        continue;\n",
    "        print(i)\n"
   ]
  },
  {
   "cell_type": "code",
   "execution_count": 31,
   "id": "72ca6449-a092-41b9-905d-da72a5e9aed1",
   "metadata": {},
   "outputs": [
    {
     "name": "stdout",
     "output_type": "stream",
     "text": [
      "0\n",
      "1\n",
      "2\n"
     ]
    }
   ],
   "source": [
    " for i in range(3):\n",
    "     print(i)"
   ]
  },
  {
   "cell_type": "code",
   "execution_count": 32,
   "id": "abe5b446-0ef5-4260-a50a-8a9ab5ac48c3",
   "metadata": {},
   "outputs": [
    {
     "data": {
      "text/plain": [
       "True"
      ]
     },
     "execution_count": 32,
     "metadata": {},
     "output_type": "execute_result"
    }
   ],
   "source": [
    "bool(1)"
   ]
  },
  {
   "cell_type": "code",
   "execution_count": 33,
   "id": "44e3e589-5174-4d95-bb6e-e7aebb58dba3",
   "metadata": {},
   "outputs": [
    {
     "data": {
      "text/plain": [
       "7"
      ]
     },
     "execution_count": 33,
     "metadata": {},
     "output_type": "execute_result"
    }
   ],
   "source": [
    "3 + 2 * 2\n"
   ]
  },
  {
   "cell_type": "code",
   "execution_count": 37,
   "id": "eca97ea7-08be-4a2f-ad8f-ddf62f5b3d73",
   "metadata": {},
   "outputs": [
    {
     "data": {
      "text/plain": [
       "2"
      ]
     },
     "execution_count": 37,
     "metadata": {},
     "output_type": "execute_result"
    }
   ],
   "source": [
    "10 // 4\n"
   ]
  },
  {
   "cell_type": "code",
   "execution_count": 35,
   "id": "e7410a3c-8cc4-42c2-8c6e-a8b324b4c047",
   "metadata": {},
   "outputs": [
    {
     "data": {
      "text/plain": [
       "False"
      ]
     },
     "execution_count": 35,
     "metadata": {},
     "output_type": "execute_result"
    }
   ],
   "source": [
    "bool(0)"
   ]
  },
  {
   "cell_type": "code",
   "execution_count": 36,
   "id": "d596bae5-501c-498d-a600-cc7e7c3db220",
   "metadata": {},
   "outputs": [
    {
     "data": {
      "text/plain": [
       "True"
      ]
     },
     "execution_count": 36,
     "metadata": {},
     "output_type": "execute_result"
    }
   ],
   "source": [
    "4 != 5"
   ]
  },
  {
   "cell_type": "code",
   "execution_count": 38,
   "id": "74d0080d-cef3-49bd-b79f-16eacc2893c4",
   "metadata": {},
   "outputs": [
    {
     "ename": "_IncompleteInputError",
     "evalue": "incomplete input (2338824748.py, line 1)",
     "output_type": "error",
     "traceback": [
      "\u001b[1;36m  Cell \u001b[1;32mIn[38], line 1\u001b[1;36m\u001b[0m\n\u001b[1;33m    if 5==5:\u001b[0m\n\u001b[1;37m            ^\u001b[0m\n\u001b[1;31m_IncompleteInputError\u001b[0m\u001b[1;31m:\u001b[0m incomplete input\n"
     ]
    }
   ],
   "source": [
    "if 5==5:"
   ]
  },
  {
   "cell_type": "code",
   "execution_count": 39,
   "id": "52b2a221-1ede-4db7-a8d6-28f136e0c3a2",
   "metadata": {},
   "outputs": [
    {
     "ename": "SyntaxError",
     "evalue": "cannot assign to literal here. Maybe you meant '==' instead of '='? (3373592287.py, line 1)",
     "output_type": "error",
     "traceback": [
      "\u001b[1;36m  Cell \u001b[1;32mIn[39], line 1\u001b[1;36m\u001b[0m\n\u001b[1;33m    if 5 = 5:\u001b[0m\n\u001b[1;37m       ^\u001b[0m\n\u001b[1;31mSyntaxError\u001b[0m\u001b[1;31m:\u001b[0m cannot assign to literal here. Maybe you meant '==' instead of '='?\n"
     ]
    }
   ],
   "source": [
    "if 5 = 5:\n",
    "\n",
    "\n"
   ]
  },
  {
   "cell_type": "code",
   "execution_count": 40,
   "id": "f4c8105d-0a62-49bb-a8b4-5a87d6435046",
   "metadata": {},
   "outputs": [
    {
     "ename": "_IncompleteInputError",
     "evalue": "incomplete input (2961736738.py, line 1)",
     "output_type": "error",
     "traceback": [
      "\u001b[1;36m  Cell \u001b[1;32mIn[40], line 1\u001b[1;36m\u001b[0m\n\u001b[1;33m    if True:\u001b[0m\n\u001b[1;37m            ^\u001b[0m\n\u001b[1;31m_IncompleteInputError\u001b[0m\u001b[1;31m:\u001b[0m incomplete input\n"
     ]
    }
   ],
   "source": [
    "if True:"
   ]
  },
  {
   "cell_type": "code",
   "execution_count": 41,
   "id": "cddfbead-62a4-4909-adab-7f4339cd322f",
   "metadata": {},
   "outputs": [
    {
     "name": "stdout",
     "output_type": "stream",
     "text": [
      "H\n",
      "i\n"
     ]
    }
   ],
   "source": [
    " for x in 'Hi':\n",
    "     print(x)"
   ]
  },
  {
   "cell_type": "code",
   "execution_count": 42,
   "id": "ae050e9d-809b-4751-a1a2-ac4f7ed1117b",
   "metadata": {},
   "outputs": [
    {
     "data": {
      "text/plain": [
       "3"
      ]
     },
     "execution_count": 42,
     "metadata": {},
     "output_type": "execute_result"
    }
   ],
   "source": [
    "10 // 3"
   ]
  },
  {
   "cell_type": "code",
   "execution_count": 43,
   "id": "5a5881b8-f501-4774-b7d9-10c91a98efb6",
   "metadata": {},
   "outputs": [
    {
     "name": "stdout",
     "output_type": "stream",
     "text": [
      "Go\n"
     ]
    }
   ],
   "source": [
    "if 1:\n",
    "    print('Go')"
   ]
  },
  {
   "cell_type": "code",
   "execution_count": 44,
   "id": "4cf784f0-d111-4f71-8117-eb05298e814c",
   "metadata": {},
   "outputs": [
    {
     "data": {
      "text/plain": [
       "bool"
      ]
     },
     "execution_count": 44,
     "metadata": {},
     "output_type": "execute_result"
    }
   ],
   "source": [
    "type(True)"
   ]
  },
  {
   "cell_type": "code",
   "execution_count": 45,
   "id": "b9076309-171a-4b32-b8aa-df86bb5c779f",
   "metadata": {},
   "outputs": [
    {
     "ename": "_IncompleteInputError",
     "evalue": "incomplete input (2182993174.py, line 1)",
     "output_type": "error",
     "traceback": [
      "\u001b[1;36m  Cell \u001b[1;32mIn[45], line 1\u001b[1;36m\u001b[0m\n\u001b[1;33m    if x == 5 and x < 10:\u001b[0m\n\u001b[1;37m                         ^\u001b[0m\n\u001b[1;31m_IncompleteInputError\u001b[0m\u001b[1;31m:\u001b[0m incomplete input\n"
     ]
    }
   ],
   "source": [
    "if x == 5 and x < 10:\n"
   ]
  },
  {
   "cell_type": "code",
   "execution_count": 46,
   "id": "34bcbb38-9c29-4678-bef4-30f074b288d0",
   "metadata": {},
   "outputs": [
    {
     "data": {
      "text/plain": [
       "8"
      ]
     },
     "execution_count": 46,
     "metadata": {},
     "output_type": "execute_result"
    }
   ],
   "source": [
    " 2 ** 3"
   ]
  },
  {
   "cell_type": "code",
   "execution_count": 4,
   "id": "b239dc02-fb6d-4508-b57f-fb3aff4b4852",
   "metadata": {},
   "outputs": [
    {
     "name": "stdin",
     "output_type": "stream",
     "text": [
      "Enter your no  8\n"
     ]
    },
    {
     "name": "stdout",
     "output_type": "stream",
     "text": [
      "it is  not divisible by 3 and 7 \n"
     ]
    }
   ],
   "source": [
    "# Write a Python program to check if a number is divisible by both 3 and 7.\n",
    "a =int(input(\"Enter your no \"))\n",
    "\n",
    "if a % 3 == 0  and a % 7 == 0:\n",
    "    print(\"it is divisible by 3 and 7 \")\n",
    "else:\n",
    "    print(\"it is  not divisible by 3 and 7 \")"
   ]
  },
  {
   "cell_type": "code",
   "execution_count": 5,
   "id": "5fc739ed-f3e7-4e9b-aae9-fc3ac53ab34a",
   "metadata": {},
   "outputs": [
    {
     "name": "stdout",
     "output_type": "stream",
     "text": [
      "2\n",
      "4\n",
      "6\n",
      "8\n",
      "10\n",
      "12\n",
      "14\n",
      "16\n",
      "18\n",
      "20\n",
      "22\n",
      "24\n",
      "26\n",
      "28\n",
      "30\n",
      "32\n",
      "34\n",
      "36\n",
      "38\n",
      "40\n",
      "42\n",
      "44\n",
      "46\n",
      "48\n",
      "50\n",
      "52\n",
      "54\n",
      "56\n",
      "58\n",
      "60\n",
      "62\n",
      "64\n",
      "66\n",
      "68\n",
      "70\n",
      "72\n",
      "74\n",
      "76\n",
      "78\n",
      "80\n",
      "82\n",
      "84\n",
      "86\n",
      "88\n",
      "90\n",
      "92\n",
      "94\n",
      "96\n",
      "98\n",
      "100\n"
     ]
    }
   ],
   "source": [
    "#Write a program to print all even numbers between 1 and 100 using a for loop\n",
    "for i in range(1,101,1):\n",
    "    if i % 2  == 0 :\n",
    "        print(i)\n",
    "    \n",
    "        "
   ]
  },
  {
   "cell_type": "code",
   "execution_count": 6,
   "id": "92d61aff-7772-48d7-bf32-215dab333fea",
   "metadata": {},
   "outputs": [
    {
     "name": "stdout",
     "output_type": "stream",
     "text": [
      "50\n",
      "49\n",
      "48\n",
      "47\n",
      "46\n",
      "45\n",
      "44\n",
      "43\n",
      "42\n",
      "41\n",
      "40\n",
      "39\n",
      "38\n",
      "37\n",
      "36\n",
      "35\n",
      "34\n",
      "33\n",
      "32\n",
      "31\n",
      "30\n",
      "29\n",
      "28\n",
      "27\n",
      "26\n",
      "25\n",
      "24\n",
      "23\n",
      "22\n",
      "21\n",
      "20\n",
      "19\n",
      "18\n",
      "17\n",
      "16\n",
      "15\n",
      "14\n",
      "13\n",
      "12\n",
      "11\n",
      "10\n",
      "9\n",
      "8\n",
      "7\n",
      "6\n",
      "5\n",
      "4\n",
      "3\n",
      "2\n",
      "1\n"
     ]
    }
   ],
   "source": [
    "# WAP to print numbers from 50 to 1 in reverse using a while loop.\n",
    "i = 50\n",
    "while i >= 1:\n",
    "    print(i)\n",
    "    i -= 1"
   ]
  },
  {
   "cell_type": "code",
   "execution_count": 7,
   "id": "1df96201-3bab-4eda-b055-23c5c8968993",
   "metadata": {},
   "outputs": [
    {
     "name": "stdin",
     "output_type": "stream",
     "text": [
      "Enter your table   12\n"
     ]
    },
    {
     "name": "stdout",
     "output_type": "stream",
     "text": [
      "12\n",
      "24\n",
      "36\n",
      "48\n",
      "60\n",
      "72\n",
      "84\n",
      "96\n",
      "108\n",
      "120\n"
     ]
    }
   ],
   "source": [
    "# WAP to take a number and print its multiplication table up to 10.\n",
    "\n",
    "a =int(input(\"Enter your table  \")) \n",
    "j=1 \n",
    "while(j<=10):\n",
    "    b=a*j\n",
    "    print(b)\n",
    "    j=j+1\n"
   ]
  },
  {
   "cell_type": "code",
   "execution_count": 10,
   "id": "17d2b82f-2d5d-4d12-90e9-3ffe32f8fbc9",
   "metadata": {},
   "outputs": [
    {
     "name": "stdin",
     "output_type": "stream",
     "text": [
      "Enter your num   2\n"
     ]
    },
    {
     "name": "stdout",
     "output_type": "stream",
     "text": [
      "1\n",
      "2\n"
     ]
    }
   ],
   "source": [
    "#Q8. WAP to print the factorial of a number using for loop.\n",
    "a =int(input(\"Enter your num  \")) \n",
    "fact=1\n",
    "for i in range(1,a+1):\n",
    "    fact *= i\n",
    "    print(fact)"
   ]
  },
  {
   "cell_type": "code",
   "execution_count": null,
   "id": "08b87131-f89a-444c-a6f2-74402cf79035",
   "metadata": {},
   "outputs": [],
   "source": [
    "#WAP to check if a number is positive, negative or zero using if-elif-else.\n",
    "num1=int(input(\"Enter number 1 : \"))\n",
    "\n",
    "if num1>0:\n",
    "    print(\"positive\")\n",
    "elif num1<0:\n",
    "    print(\"negative\")\n",
    "elif num1==0:\n",
    "    print(\"zero\")\n",
    "\n"
   ]
  },
  {
   "cell_type": "code",
   "execution_count": 12,
   "id": "a453d56e-d8a5-47b3-bacb-f7bbe3b44bd5",
   "metadata": {},
   "outputs": [
    {
     "ename": "IndentationError",
     "evalue": "unexpected indent (2176326418.py, line 3)",
     "output_type": "error",
     "traceback": [
      "\u001b[1;36m  Cell \u001b[1;32mIn[12], line 3\u001b[1;36m\u001b[0m\n\u001b[1;33m    if num1 % 2 ==0 and num1>10:\u001b[0m\n\u001b[1;37m    ^\u001b[0m\n\u001b[1;31mIndentationError\u001b[0m\u001b[1;31m:\u001b[0m unexpected indent\n"
     ]
    }
   ],
   "source": [
    "#WAP to take a number as input and print whether it's even and greater than 10.\n",
    "num1=int(input(\"Enter number 1 : \"))\n",
    "  if num1 % 2 ==0 and num1>10:\n",
    "     print(num1)\n",
    "  else:\n",
    "    print(\"it is not even and greater than 10\")"
   ]
  },
  {
   "cell_type": "code",
   "execution_count": 5,
   "id": "35fb6ef9-e5dc-4d61-8f88-1a7e9336f0f3",
   "metadata": {},
   "outputs": [
    {
     "name": "stdout",
     "output_type": "stream",
     "text": [
      "5\n"
     ]
    }
   ],
   "source": [
    "\"\"\" functions \n",
    " def div(PARAMETER AND ARGUMENTS )\n",
    "  WORKING OF FUNCTIION \n",
    "  \n",
    "  div()\"\"\"\n",
    "a=2\n",
    "b=3\n",
    "def sum():\n",
    " print(a+b)\n",
    "\n",
    "sum()"
   ]
  },
  {
   "cell_type": "code",
   "execution_count": 12,
   "id": "eb08b54e-c649-4110-bdc9-8e7d62dda1f7",
   "metadata": {},
   "outputs": [
    {
     "name": "stdout",
     "output_type": "stream",
     "text": [
      "2\n",
      "4\n",
      "6\n",
      "8\n",
      "10\n",
      "12\n",
      "14\n",
      "16\n"
     ]
    }
   ],
   "source": [
    "def even():\n",
    " for i in range(2,17,2):\n",
    "    print(i)\n",
    "\n",
    "even()"
   ]
  },
  {
   "cell_type": "code",
   "execution_count": 56,
   "id": "753c0b35-04a1-4b3b-abef-0ccbd4f5f78a",
   "metadata": {},
   "outputs": [
    {
     "name": "stdout",
     "output_type": "stream",
     "text": [
      "2\n"
     ]
    }
   ],
   "source": [
    "def even():\n",
    "    i=2\n",
    "    while i%2==0:\n",
    "     print(i)\n",
    "     i+=1\n",
    "even()"
   ]
  },
  {
   "cell_type": "code",
   "execution_count": 66,
   "id": "ec1032be-7697-4ca9-a6b7-6245df973d15",
   "metadata": {},
   "outputs": [
    {
     "name": "stdin",
     "output_type": "stream",
     "text": [
      "Enter number  :  2\n"
     ]
    },
    {
     "name": "stdout",
     "output_type": "stream",
     "text": [
      "4\n"
     ]
    }
   ],
   "source": [
    "\n",
    "\"\"\"Write a function to return the square of a number.\n",
    "*\n",
    "\"\"\"\n",
    "def Sqr():\n",
    " num1=int(input(\"Enter number  : \")) \n",
    " a=num1**2\n",
    " print(a)\n",
    "    \n",
    "Sqr()"
   ]
  },
  {
   "cell_type": "code",
   "execution_count": 68,
   "id": "71832157-538f-451d-be4b-c7e447c0f299",
   "metadata": {},
   "outputs": [
    {
     "name": "stdin",
     "output_type": "stream",
     "text": [
      "Enter number  :  2\n",
      "Enter number  :  23\n"
     ]
    },
    {
     "name": "stdout",
     "output_type": "stream",
     "text": [
      "25\n"
     ]
    }
   ],
   "source": [
    "def add():\n",
    " num1=int(input(\"Enter number  : \"))\n",
    " num2=int(input(\"Enter number  : \")) \n",
    "\n",
    " a=num1+num2\n",
    " print(a)\n",
    "    \n",
    "add()"
   ]
  },
  {
   "cell_type": "code",
   "execution_count": 70,
   "id": "a43ef86b-d665-4340-aeb7-4f664127c52e",
   "metadata": {},
   "outputs": [
    {
     "name": "stdin",
     "output_type": "stream",
     "text": [
      "Enter number  :  2\n"
     ]
    },
    {
     "name": "stdout",
     "output_type": "stream",
     "text": [
      "True\n"
     ]
    }
   ],
   "source": [
    "def even():\n",
    " num1=int(input(\"Enter number  : \"))\n",
    " a=num1%2==0\n",
    " print(a)\n",
    "    \n",
    "even()"
   ]
  },
  {
   "cell_type": "code",
   "execution_count": 73,
   "id": "8c47c775-1fa1-4c02-8e00-760929fa31d8",
   "metadata": {},
   "outputs": [
    {
     "name": "stdin",
     "output_type": "stream",
     "text": [
      "Enter a number:  4\n"
     ]
    },
    {
     "data": {
      "text/plain": [
       "24"
      ]
     },
     "execution_count": 73,
     "metadata": {},
     "output_type": "execute_result"
    }
   ],
   "source": [
    "def factorial(n):\n",
    "    if n == 0 or n == 1:\n",
    "        return 1\n",
    "    else:\n",
    "        return n * factorial(n - 1)\n",
    "\n",
    "# Example usage\n",
    "num = int(input(\"Enter a number: \"))\n",
    "factorial(num)"
   ]
  },
  {
   "cell_type": "code",
   "execution_count": null,
   "id": "3ce6cb4c-fad7-478c-8367-ebf89e88bb29",
   "metadata": {},
   "outputs": [],
   "source": [
    "def factorial(n):\n",
    "    if n == 0 or n == 1:\n",
    "        return 1\n",
    "    else:\n",
    "        return n * factorial(n - 1)\n",
    "\n",
    "# Example usage\n",
    "num = int(input(\"Enter a number: \"))\n",
    "factorial(num)"
   ]
  },
  {
   "cell_type": "code",
   "execution_count": 7,
   "id": "01f8c1f8-e010-4531-a28c-6627ed2d6f26",
   "metadata": {},
   "outputs": [
    {
     "data": {
      "text/plain": [
       "55"
      ]
     },
     "execution_count": 7,
     "metadata": {},
     "output_type": "execute_result"
    }
   ],
   "source": [
    "def largest(numbers):\n",
    "    return  max(numbers)\n",
    "largest([1,3,4,4,5,55])"
   ]
  },
  {
   "cell_type": "code",
   "execution_count": 6,
   "id": "58a27fc0-858a-4ce9-883f-2db49eb5e44d",
   "metadata": {},
   "outputs": [
    {
     "name": "stdout",
     "output_type": "stream",
     "text": [
      "Reverse string: olleh\n"
     ]
    }
   ],
   "source": [
    "def reverse_string(s):\n",
    "    reversed_str = \"\"\n",
    "    for char in s:\n",
    "        reversed_str = char + reversed_str\n",
    "    return reversed_str\n",
    "# Example usage\n",
    "reversed_str = \"hello\"\n",
    "print(\"Reverse string:\", reverse_string(input_str))"
   ]
  },
  {
   "cell_type": "code",
   "execution_count": 9,
   "id": "4ee1f869-51b9-4fff-a969-602516489ccf",
   "metadata": {},
   "outputs": [
    {
     "name": "stdin",
     "output_type": "stream",
     "text": [
      "Enter number of terms:  5\n"
     ]
    },
    {
     "name": "stdout",
     "output_type": "stream",
     "text": [
      "Fibonacci series: [0, 1, 1, 2, 3]\n"
     ]
    }
   ],
   "source": [
    "def fibonacci_series(n):\n",
    "    fib = []\n",
    "    a, b = 0, 1\n",
    "    for _ in range(n):\n",
    "        fib.append(a)\n",
    "        a, b = b, a + b\n",
    "    return fib\n",
    "\n",
    "# Example usage\n",
    "terms = int(input(\"Enter number of terms: \"))\n",
    "print(\"Fibonacci series:\", fibonacci_series(terms))"
   ]
  },
  {
   "cell_type": "code",
   "execution_count": null,
   "id": "f5ba08fb-da24-4f3a-85bd-5da5e6461bef",
   "metadata": {},
   "outputs": [],
   "source": [
    "\"\"\" Write a function to return the square of a number.\n",
    "*\n",
    "\n",
    "def Sqr():\n",
    " num1=int(input(\"Enter number  : \")) \n",
    " a=num1**2\n",
    " print(a)\n",
    "    \n",
    "Sqr()\n",
    "Q2. Write a function that adds two numbers and returns the result.\n",
    "*\n",
    "def add():\n",
    " num1=int(input(\"Enter number  : \"))\n",
    " num2=int(input(\"Enter number  : \")) \n",
    "\n",
    " a=num1+num2\n",
    " print(a)\n",
    "    \n",
    "add()\n",
    "Q3. Write a function to check if a number is even.\n",
    "*\n",
    "def even():\n",
    " num1=int(input(\"Enter number  : \"))\n",
    " a=num1%2==0\n",
    " print(a)\n",
    "    \n",
    "even()\n",
    "Q4. Write a recursive function to find the factorial of a number.\n",
    "*\n",
    "def factorial(n):\n",
    "    if n == 0 or n == 1:\n",
    "        return 1\n",
    "    else:\n",
    "        return n * factorial(n - 1)\n",
    "\n",
    "# Example usage\n",
    "num = int(input(\"Enter a number: \"))\n",
    "factorial(num)\n",
    "Q5. Write a function to return the largest element in a list.\n",
    "*\n",
    "def largest(numbers):\n",
    "    return  max(numbers)\n",
    "largest([1,3,4,4,5,55])\n",
    "Q6. Write a function to reverse a string.\n",
    "*\n",
    "def reverse_string(s):\n",
    "    reversed_str = \"\"\n",
    "    for char in s:\n",
    "        reversed_str = char + reversed_str\n",
    "    return reversed_str\n",
    "# Example usage\n",
    "reversed_str = \"hello\"\n",
    "print(\"Reverse string:\", reverse_string(input_str))\n",
    "Q7. Write a function to generate Fibonacci series up to n terms.\n",
    "*\n",
    "def fibonacci_series(n):\n",
    "    fib = []\n",
    "    a, b = 0, 1\n",
    "    for _ in range(n):\n",
    "        fib.append(a)\n",
    "        a, b = b, a + b\n",
    "    return fib\n",
    "\n",
    "# Example usage\n",
    "terms = int(input(\"Enter number of terms: \"))\n",
    "print(\"Fibonacci series:\", fibonacci_series(terms))\n",
    "Q8. Write a function to count vowels in a string.\n",
    "*\n",
    "Q9. Write a function using *args to accept any number of values and return their sum.\n",
    "*\n",
    "Q10. Write a function to check if a string is a palindrome.\n",
    "*\n",
    "Which keyword defines a function in Python?\n",
    "*\n",
    "func\n",
    "function\n",
    "define\n",
    "def\n",
    "What is the output of type(lambda x: x)?\n",
    "*\n",
    "<class 'function'>\n",
    "<type 'lambda'>\n",
    "lambda\n",
    "object\n",
    "Which is invalid function name?\n",
    "*\n",
    "my_func\n",
    "2func\n",
    "_name\n",
    "func2\n",
    "Which of these will return from a function?\n",
    "*\n",
    "exit\n",
    "print\n",
    "return\n",
    "yield\n",
    "Default return type of function without return statement?\n",
    "*\n",
    "null\n",
    "None\n",
    "0\n",
    "False\n",
    "What is the output of: def foo(): pass\n",
    "print(foo())\n",
    "*\n",
    "None\n",
    "0\n",
    "Error\n",
    "foo\n",
    "What is *args used for?\n",
    "*\n",
    "Positional args\n",
    "Fixed args\n",
    "Variable args\n",
    "Keyword args\n",
    "What is **kwargs used for?\n",
    "*\n",
    "Tuples\n",
    "List\n",
    "Dictionary of keyword args\n",
    "All\n",
    "Which is a built-in Python function?\n",
    "*\n",
    "add()\n",
    "sum()\n",
    "total()\n",
    "plus()\n",
    "Which function is used to convert a string to an integer?\n",
    "*\n",
    "str()\n",
    "float()\n",
    "int()\n",
    "eval()\n",
    "What is the output: len([1, 2, 3])\n",
    "*\n",
    "1\n",
    "2\n",
    "3\n",
    "4\n",
    "Function arguments with default values must be ___\n",
    "*\n",
    "First\n",
    "Last\n",
    "Any order\n",
    "Not allowed\n",
    "Can a function return multiple values?\n",
    "*\n",
    "Yes\n",
    "No\n",
    "Only list\n",
    "Only tuple\n",
    "What is the scope of local variable?\n",
    "*\n",
    "Module\n",
    "Function\n",
    "Global\n",
    "Class\n",
    "Which one is correct to define function without arguments?\n",
    "*\n",
    "def fun[]:\n",
    "def fun():\n",
    "function fun():\n",
    "fun def():\n",
    "Which function returns True if all elements are true?\n",
    "*\n",
    "any()\n",
    "all()\n",
    "sum()\n",
    "len()\n",
    "What does lambda return?\n",
    "*\n",
    "Function object\n",
    "String\n",
    "Nothing\n",
    "Class\n",
    "Which of the following can be passed to a function?\n",
    "*\n",
    "List\n",
    "String\n",
    "Another Function\n",
    "All\n",
    "Which module contains reduce()?\n",
    "*\n",
    "functools\n",
    "lambda\n",
    "reduce\n",
    "map\n",
    "Can you define a function inside a function?\n",
    "*\n",
    "Yes\n",
    "No\n",
    "Only static\n",
    "Only lambda\n",
    "Which built-in function is used to apply function to each element of iterable?\n",
    "*\n",
    "map()\n",
    "filter()\n",
    "reduce()\n",
    "apply()\n",
    "filter() returns:\n",
    "*\n",
    "List\n",
    "Tuple\n",
    "Object\n",
    "Set\n",
    "Which function checks type of variable?\n",
    "*\n",
    "is()\n",
    "typeof()\n",
    "type()\n",
    "instance()\n",
    "What does the following return?\n",
    "list(map(lambda x:x+1, [1,2,3]))\n",
    "*\n",
    "[2,3,4]\n",
    "[1,2,3]\n",
    "[3,4,5]\n",
    "[0,1,2]\n",
    "What is the result of bool('False')?\n",
    "*\n",
    "True\n",
    "False\n",
    "Error\n",
    "None\n",
    "Which symbol is used to define default argument?\n",
    "*\n",
    "=\n",
    ":\n",
    "*\n",
    "#\n",
    "Which operator is used for exponent?\n",
    "*\n",
    "^\n",
    "**\n",
    "exp()\n",
    "//\n",
    "Which statement is used to exit a function?\n",
    "*\n",
    "break\n",
    "continue\n",
    "exit\n",
    "return\n",
    "Can return be used in lambda?\n",
    "*\n",
    "Yes\n",
    "No\n",
    "Only inside def\n",
    "Only if statement\n",
    "Which of the following will not raise error?\n",
    "def foo(a, b=1): return a+b\n",
    "*\n",
    "foo()\n",
    "foo(1)\n",
    "foo(1,2,3)\n",
    "foo(b=2)\n",
    "Never submit passwords through Google Forms.\n",
    "This content is neither created nor endorsed by Google. - Contact form owner - Terms of Service - Privacy Policy\n",
    "Does this form look suspicious? Report\n",
    "\n",
    "\"\"\""
   ]
  },
  {
   "cell_type": "code",
   "execution_count": 11,
   "id": "ed53511f-8c5c-4fe4-b0fa-403ecf2a7c54",
   "metadata": {},
   "outputs": [
    {
     "data": {
      "text/plain": [
       "False"
      ]
     },
     "execution_count": 11,
     "metadata": {},
     "output_type": "execute_result"
    }
   ],
   "source": [
    "bool('')"
   ]
  },
  {
   "cell_type": "code",
   "execution_count": 12,
   "id": "3911e6f4-938d-4be4-8328-b7283ddd693e",
   "metadata": {},
   "outputs": [
    {
     "data": {
      "text/plain": [
       "[2, 3, 4]"
      ]
     },
     "execution_count": 12,
     "metadata": {},
     "output_type": "execute_result"
    }
   ],
   "source": [
    "list(map(lambda x:x+1, [1,2,3]))"
   ]
  },
  {
   "cell_type": "code",
   "execution_count": 19,
   "id": "741075de-33cf-43ba-b44e-9f7a158eb2c4",
   "metadata": {},
   "outputs": [
    {
     "ename": "TypeError",
     "evalue": "'int' object is not iterable",
     "output_type": "error",
     "traceback": [
      "\u001b[1;31m---------------------------------------------------------------------------\u001b[0m",
      "\u001b[1;31mTypeError\u001b[0m                                 Traceback (most recent call last)",
      "Cell \u001b[1;32mIn[19], line 1\u001b[0m\n\u001b[1;32m----> 1\u001b[0m \u001b[38;5;28mfilter\u001b[39m(\u001b[38;5;241m2\u001b[39m,\u001b[38;5;241m4\u001b[39m)\n",
      "\u001b[1;31mTypeError\u001b[0m: 'int' object is not iterable"
     ]
    }
   ],
   "source": [
    "filter() \n"
   ]
  },
  {
   "cell_type": "code",
   "execution_count": 14,
   "id": "3e46ed5b-b8b7-430f-888d-e524509ba999",
   "metadata": {},
   "outputs": [
    {
     "data": {
      "text/plain": [
       "list"
      ]
     },
     "execution_count": 14,
     "metadata": {},
     "output_type": "execute_result"
    }
   ],
   "source": [
    "a= [1,2,7.3]\n",
    "type(a)"
   ]
  },
  {
   "cell_type": "code",
   "execution_count": null,
   "id": "b284f176-519a-4a2c-a62c-c50f3c0b48ec",
   "metadata": {},
   "outputs": [],
   "source": [
    "\"\"\"list is mutable we can modifie \n",
    "second thing is ordered \n",
    "indexing is there in list \n",
    "third is collection of multiple data type can store \"\"\""
   ]
  },
  {
   "cell_type": "code",
   "execution_count": 51,
   "id": "87a44b64-81c2-497c-82f8-f23a659f79d1",
   "metadata": {},
   "outputs": [
    {
     "name": "stdout",
     "output_type": "stream",
     "text": [
      "[1, 2, 34, 45, 5, 6, 66, 7]\n",
      "[1, 2, 34, 45, 5, 6, 66, 7, 5]\n",
      "[1, 2, 34, 45, 5, 66, 7, 5]\n",
      "[1, 2, 34, 45, 5, 6, 66, 7, 5]\n",
      "[1, 2, 34, 45, 5, 6, 66, 7, 5, 4, 5, 6, 7]\n",
      "[1, 2, 34, 45, 6, 66, 7, 5, 4, 5, 6, 7]\n",
      "[7, 6, 5, 4, 5, 7, 66, 6, 45, 34, 2, 1]\n",
      "[1, 2, 4, 5, 5, 6, 6, 7, 7, 34, 45, 66]\n",
      "[1, 2, 4, 5, 5, 6, 6, 7, 7, 34, 45, 66]\n",
      "[1, 2, 4, 5, 5, 6, 6, 7, 7, 34, 45, 66] is a copy of a \n",
      "0\n",
      "[66, 45, 34, 7, 7, 6, 6, 5, 5, 4, 2, 1]\n",
      "0\n"
     ]
    }
   ],
   "source": [
    "a=[1,2,34,45,5,6,66,7]\n",
    "print(a)\n",
    "a.append(5)\n",
    "print(a)\n",
    "a.pop(5)\n",
    "print(a)\n",
    "a.insert(5,6)\n",
    "print(a)\n",
    "a.extend([4,5,6,7])\n",
    "print(a)\n",
    "a.remove(5)\n",
    "print(a)\n",
    "a.reverse()\n",
    "print(a)\n",
    "a.sort()\n",
    "print(a)\n",
    "b=a.copy()\n",
    "print(a)\n",
    "print(f\"{b} is a copy of a \")\n",
    "a.clear()\n",
    "print(a.count(7))\n",
    "b.reverse()\n",
    "print(b)\n",
    "print(b.index(66))\n",
    "\n",
    "\n",
    "\n"
   ]
  },
  {
   "cell_type": "code",
   "execution_count": null,
   "id": "4e2a51ae-95bb-4868-a19b-c82784e3100b",
   "metadata": {},
   "outputs": [],
   "source": [
    "num1 = int(input(\"Enter number: \"))\n",
    "\n",
    "if num1 <= 1:\n",
    "    print(f\"{num1} is NOT a prime number \")\n",
    "else:\n",
    "    for i in range(2, num1):\n",
    "        if num1 % i == 0:\n",
    "            print(f\"{num1} is NOT a prime number ❌\")\n",
    "            break\n",
    "    else:\n",
    "        print(f\"{num1} is a prime number ✅\")"
   ]
  },
  {
   "cell_type": "code",
   "execution_count": null,
   "id": "e6633e7a-e032-41d8-871a-e3dc1f3ba933",
   "metadata": {},
   "outputs": [],
   "source": [
    "\"\"\"CHAPTER 2 – PRACTICE SET\n",
    "\n",
    "Write a python program to add two numbers.\n",
    "\n",
    "Write a python program to find remainder when a number is divided by z.\n",
    "\n",
    "Check the type of variable assigned using input() function.\n",
    "\n",
    "Use comparison operator to find out whether a given variable a is greater than ‘b’ or not. Take a = 34 and b = 80\n",
    "\n",
    "Write a python program to find an average of two numbers entered by the user.\n",
    "\n",
    "Write a python program to calculate the square of a number entered by the user.\"\"\""
   ]
  },
  {
   "cell_type": "code",
   "execution_count": null,
   "id": "2d57fa29-a1d9-4cb6-b365-ecb542a8e980",
   "metadata": {},
   "outputs": [],
   "source": [
    "# tuples immutable means no change occurs and \n",
    "# methods fisrt count- to count A ELEMENT HOW MANNY TIME OCCURS \n",
    "# second functions is index to find index "
   ]
  },
  {
   "cell_type": "code",
   "execution_count": 1,
   "id": "877aa91c-3cb7-430c-a376-18068c299f03",
   "metadata": {},
   "outputs": [],
   "source": [
    "#indexx \n",
    "d= tuple('a string with \"a\"')"
   ]
  },
  {
   "cell_type": "code",
   "execution_count": null,
   "id": "752c442a-cab6-4861-8fad-4e816d8b1fd1",
   "metadata": {},
   "outputs": [],
   "source": [
    "\"\"\"| Method          | Purpose                        |\n",
    "| --------------- | ------------------------------ |\n",
    "| `.read()`       | Read entire file or characters |\n",
    "| `.readline()`   | Read one line                  |\n",
    "| `.readlines()`  | Read all lines (as list)       |\n",
    "| `.write()`      | Write a string                 |\n",
    "| `.writelines()` | Write a list of strings        |\n",
    "| `.seek()`       | Move cursor                    |\n",
    "| `.tell()`       | Get cursor position            |\n",
    "| `.flush()`      | Flush buffer to disk           |\n",
    "| `.truncate()`   | Cut file to a certain size     |\n",
    "| `.close()`      | Close file                     |\n",
    "| `.fileno()`     | File descriptor (int)          |\n",
    "| `.isatty()`     | Is file a terminal?            |\n",
    "| `.readable()`   | Is file readable?              |\n",
    "| `.writable()`   | Is file writable?              |\n",
    "| `.seekable()`   | Can move cursor?               |\n",
    "\"\"\""
   ]
  },
  {
   "cell_type": "code",
   "execution_count": 2,
   "id": "7878fecd-1316-45d5-821f-783209d17c95",
   "metadata": {},
   "outputs": [
    {
     "name": "stdout",
     "output_type": "stream",
     "text": [
      "aext-assistant @ file:///C:/b/abs_1bfn_ondsd/croot/aext-assistant_1746560154452/work\n",
      "aext-assistant-server @ file:///C:/b/abs_6f6umrladb/croot/aext-assistant-server_1746552992573/work\n",
      "aext-core @ file:///C:/b/abs_a0497039ax/croot/aext-core_1746546102863/work\n",
      "aext-core-server @ file:///C:/b/abs_82tjab_7w4/croot/aext-core-server_1746542360244/work\n",
      "aext-panels @ file:///C:/b/abs_fde530cwui/croot/aext-panels_1746560097533/work\n",
      "aext-panels-server @ file:///C:/b/abs_6672ttq6cc/croot/aext-panels-server_1746552976245/work\n",
      "aext-project-filebrowser-server @ file:///C:/b/abs_79l9wkmqos/croot/aext-project-filebrowser-server_1746563508758/work/backend_lib/project_filebrowser\n",
      "aext-share-notebook @ file:///C:/b/abs_4dnd8bg_5y/croot/aext-share-notebook_1746556779074/work\n",
      "aext-share-notebook-server @ file:///C:/b/abs_33583xtbk0/croot/aext-share-notebook-server_1746552715592/work\n",
      "aext-shared @ file:///C:/b/abs_4fe5it0ngg/croot/aext-shared_1746540522892/work\n",
      "aext-toolbox @ file:///C:/b/abs_f2qxgos65h/croot/anaconda-toolbox_1747230987018/work\n",
      "aext_environments_server @ file:///C:/b/abs_d1uj8ui1y6/croot/aext-environments-server_1746560401909/work/backend_lib/environments\n",
      "aiobotocore @ file:///C:/b/abs_431uzunk2v/croot/aiobotocore_1738237882529/work\n",
      "aiohappyeyeballs @ file:///C:/b/abs_e9fm5mk6ak/croot/aiohappyeyeballs_1734469429350/work\n",
      "aiohttp @ file:///C:/b/abs_d4_gdjffav/croot/aiohttp_1734687146788/work\n",
      "aioitertools @ file:///tmp/build/80754af9/aioitertools_1607109665762/work\n",
      "aiosignal @ file:///tmp/build/80754af9/aiosignal_1637843061372/work\n",
      "alabaster @ file:///C:/Users/dev-admin/perseverance-python-buildout/croot/alabaster_1729041938345/work\n",
      "alembic @ file:///C:/b/abs_75gklaimsd/croot/alembic_1751043023420/work\n",
      "altair @ file:///C:/b/abs_0b1avjyzoc/croot/altair_1743016738596/work\n",
      "anaconda-anon-usage @ file:///C:/b/abs_1az9wuczyu/croot/anaconda-anon-usage_1749054795139/work\n",
      "anaconda-auth @ file:///C:/b/abs_66s84uss7v/croot/anaconda-cloud-auth-split_1747863792543/work\n",
      "anaconda-catalogs @ file:///C:/b/abs_ac59ma63va/croot/anaconda-catalogs_1747774731997/work\n",
      "anaconda-cli-base @ file:///C:/b/abs_e4_l2p3q_7/croot/anaconda-cli-base_1741369468349/work\n",
      "anaconda-client @ file:///C:/b/abs_0aa49y56xo/croot/anaconda-client_1743199592646/work\n",
      "anaconda-navigator @ file:///C:/b/abs_5co9rfxmmi/croot/anaconda-navigator_1749741927270/work\n",
      "anaconda-project @ file:///C:/b/abs_c3nd60wjs2/croot/anaconda-project_1746215311215/work\n",
      "annotated-types @ file:///C:/Users/dev-admin/perseverance-python-buildout/croot/annotated-types_1729043709318/work\n",
      "anyio @ file:///C:/b/abs_5c8w79vk0u/croot/anyio_1745334672105/work\n",
      "appdirs==1.4.4\n",
      "archspec @ file:///croot/archspec_1709217642129/work\n",
      "argon2-cffi @ file:///opt/conda/conda-bld/argon2-cffi_1645000214183/work\n",
      "argon2-cffi-bindings @ file:///C:/b/abs_f11axiliot/croot/argon2-cffi-bindings_1736182463870/work\n",
      "arrow @ file:///C:/Users/dev-admin/buildout/perseverance-python-buildout/croot/arrow_1731716484111/work\n",
      "astroid @ file:///C:/Users/dev-admin/buildout/croot/astroid_1739560229763/work\n",
      "astropy @ file:///C:/b/abs_a6ryor8rkd/croot/astropy_1738094426721/work\n",
      "astropy-iers-data @ file:///C:/b/abs_fact33de2d/croot/astropy-iers-data_1737137602781/work\n",
      "asttokens @ file:///C:/b/abs_9662ywy9fp/croot/asttokens_1743630464377/work\n",
      "async-lru @ file:///C:/Users/dev-admin/perseverance-python-buildout/croot/async-lru_1729043741114/work\n",
      "asyncssh @ file:///C:/Users/dev-admin/buildout/croot/asyncssh_1739562824778/work\n",
      "atomicwrites==1.4.0\n",
      "attrs @ file:///C:/b/abs_89hmquz5ga/croot/attrs_1734533130810/work\n",
      "Automat @ file:///C:/b/abs_e6j20ekmp5/croot/automat_1743532580167/work\n",
      "autopep8 @ file:///croot/autopep8_1708962882016/work\n",
      "babel @ file:///C:/b/abs_ffzt1bmjth/croot/babel_1737454394148/work\n",
      "bcrypt @ file:///C:/b/abs_b3ok3jhxrx/croot/bcrypt_1747402791004/work\n",
      "beautifulsoup4 @ file:///C:/Users/dev-admin/perseverance-python-buildout/croot/beautifulsoup4-split_1729039630198/work\n",
      "binaryornot @ file:///tmp/build/80754af9/binaryornot_1617751525010/work\n",
      "black @ file:///C:/Users/dev-admin/buildout/croot/black_1739566841210/work\n",
      "bleach @ file:///C:/Users/dev-admin/buildout/croot/bleach_1732924075369/work\n",
      "blinker @ file:///C:/b/abs_b1i87khtob/croot/blinker_1737448732095/work\n",
      "bokeh @ file:///C:/b/abs_f6bf75elu5/croot/bokeh_1737999174485/work\n",
      "boltons @ file:///C:/b/abs_45_52ughkz/croot/boltons_1737061711836/work\n",
      "botocore @ file:///C:/b/abs_1ctc2plazh/croot/botocore_1738226903582/work\n",
      "Bottleneck @ file:///C:/b/abs_816hr2khp1/croot/bottleneck_1731058648110/work\n",
      "Brotli @ file:///C:/b/abs_c415aux9ra/croot/brotli-split_1736182803933/work\n",
      "cachetools @ file:///C:/b/abs_fcvwpc5vh9/croot/cachetools_1738224687938/work\n",
      "certifi @ file:///C:/b/abs_43o9lm92p9/croot/certifi_1750863864870/work/certifi\n",
      "cffi @ file:///C:/b/abs_29_b57if3f/croot/cffi_1736184144340/work\n",
      "chardet @ file:///C:/Users/dev-admin/perseverance-python-buildout/croot/chardet_1729058437735/work\n",
      "charset-normalizer @ file:///croot/charset-normalizer_1721748349566/work\n",
      "click @ file:///C:/b/abs_42rbjngfys/croot/click_1744271606983/work\n",
      "cloudpickle @ file:///C:/Users/dev-admin/perseverance-python-buildout/croot/cloudpickle_1729043776794/work\n",
      "colorama @ file:///C:/Users/dev-admin/perseverance-python-buildout/croot/colorama_1729036581634/work\n",
      "colorcet @ file:///C:/Users/dev-admin/perseverance-python-buildout/croot/colorcet_1729053366498/work\n",
      "comm @ file:///C:/Users/dev-admin/perseverance-python-buildout/croot/comm_1729042212228/work\n",
      "conda @ file:///C:/b/abs_78fae1xfc9/croot/conda_1749171262913/work/conda-src\n",
      "conda-anaconda-telemetry @ file:///C:/b/abs_8fisg12wdf/croot/conda-anaconda-telemetry_1744662558247/work\n",
      "conda-anaconda-tos @ file:///C:/b/abs_481v9q3ep5/croot/conda-anaconda-tos_1748537209861/work\n",
      "conda-build @ file:///C:/b/abs_0cmukil0y7/croot/conda-build_1748438551883/work\n",
      "conda-content-trust @ file:///C:/Users/dev-admin/perseverance-python-buildout/croot/conda-content-trust_1729088072778/work\n",
      "conda-libmamba-solver @ file:///croot/conda-libmamba-solver_1745607008911/work/src\n",
      "conda-pack @ file:///C:/Users/dev-admin/perseverance-python-buildout/croot/conda-pack_1729058654267/work\n",
      "conda-package-handling @ file:///C:/b/abs_7fz3aferfv/croot/conda-package-handling_1731369038903/work\n",
      "conda-repo-cli @ file:///C:/b/abs_89z5qypx6v/croot/conda-repo-cli_1742233951811/work\n",
      "conda-token @ file:///croot/conda-token_1741722942912/work\n",
      "conda_index @ file:///C:/b/abs_35iguetbq8/croot/conda-index_1747936869808/work\n",
      "conda_package_streaming @ file:///C:/b/abs_bdz9vbvbh2/croot/conda-package-streaming_1731366449946/work\n",
      "constantly @ file:///C:/Users/dev-admin/perseverance-python-buildout/croot/constantly_1729053406505/work\n",
      "contourpy @ file:///C:/b/abs_f2u2o_8s9g/croot/contourpy_1732540071787/work\n",
      "cookiecutter @ file:///opt/conda/conda-bld/cookiecutter_1649151442564/work\n",
      "cryptography @ file:///C:/b/abs_ae5lrkywtg/croot/cryptography_1740577842775/work\n",
      "cssselect @ file:///C:/Users/dev-admin/perseverance-python-buildout/croot/cssselect_1729047831562/work\n",
      "cycler @ file:///tmp/build/80754af9/cycler_1637851556182/work\n",
      "cytoolz @ file:///C:/b/abs_9fo7kaynab/croot/cytoolz_1736803775290/work\n",
      "dask @ file:///C:/b/abs_b819ma5s3z/croot/dask-core_1741970207786/work\n",
      "dask-expr @ file:///C:/b/abs_a3l2uwpvbn/croot/dask-expr_1742226151168/work\n",
      "datashader @ file:///C:/b/abs_7fi1hwtnu7/croot/datashader_1744385576590/work\n",
      "debugpy @ file:///C:/b/abs_bf9oo2vhxp/croot/debugpy_1736269476451/work\n",
      "decorator @ file:///opt/conda/conda-bld/decorator_1643638310831/work\n",
      "defusedxml @ file:///tmp/build/80754af9/defusedxml_1615228127516/work\n",
      "Deprecated @ file:///C:/Users/dev-admin/perseverance-python-buildout/croot/deprecated_1729047945568/work\n",
      "diff-match-patch @ file:///Users/ktietz/demo/mc3/conda-bld/diff-match-patch_1630511840874/work\n",
      "dill @ file:///C:/Users/dev-admin/perseverance-python-buildout/croot/dill_1729047982235/work\n",
      "distributed @ file:///C:/b/abs_42ljkiheum/croot/distributed_1741988119116/work\n",
      "distro @ file:///C:/Users/dev-admin/perseverance-python-buildout/croot/distro_1729059153117/work\n",
      "docstring-to-markdown @ file:///C:/Users/dev-admin/perseverance-python-buildout/croot/docstring-to-markdown_1729053922477/work\n",
      "docutils @ file:///C:/b/abs_8d42id67ov/croot/docutils_1744664123685/work\n",
      "et_xmlfile @ file:///C:/Users/dev-admin/perseverance-python-buildout/croot/et_xmlfile_1729053960370/work\n",
      "evalidate @ file:///C:/b/abs_573nc1ymt6/croot/evalidate_1743606028415/work\n",
      "executing @ file:///opt/conda/conda-bld/executing_1646925071911/work\n",
      "fastjsonschema @ file:///C:/Users/dev-admin/buildout/croot/python-fastjsonschema_1735843385211/work\n",
      "filelock @ file:///C:/b/abs_758187j281/croot/filelock_1744281404850/work\n",
      "flake8 @ file:///C:/Users/dev-admin/perseverance-python-buildout/croot/flake8_1729054074515/work\n",
      "Flask @ file:///C:/b/abs_a6m37uz578/croot/flask_1737454335662/work\n",
      "fonttools @ file:///C:/b/abs_4crkswws2h/croot/fonttools_1737040078745/work\n",
      "frozendict @ file:///C:/Users/dev-admin/perseverance-python-buildout/croot/frozendict_1729090952168/work\n",
      "frozenlist @ file:///C:/b/abs_06ctmb1zeo/croot/frozenlist_1730903113463/work\n",
      "fsspec @ file:///C:/b/abs_69yqxz6g_2/croot/fsspec_1747117728825/work\n",
      "gitdb @ file:///tmp/build/80754af9/gitdb_1617117951232/work\n",
      "GitPython @ file:///C:/Users/dev-admin/perseverance-python-buildout/croot/gitpython_1729040708854/work\n",
      "gmpy2 @ file:///C:/b/abs_d8ki0o0h97/croot/gmpy2_1738085498525/work\n",
      "greenlet @ file:///C:/b/abs_bbl_18a2tm/croot/greenlet_1733860081977/work\n",
      "h11 @ file:///C:/b/abs_224rqu7kel/croot/h11_1748442031959/work\n",
      "h5py @ file:///C:/Users/dev-admin/buildout/croot/h5py_1739563828046/work\n",
      "HeapDict @ file:///Users/ktietz/demo/mc3/conda-bld/heapdict_1630598515714/work\n",
      "holoviews @ file:///C:/b/abs_9bbkzym0jb/croot/holoviews_1741882167503/work\n",
      "httpcore @ file:///C:/b/abs_25m7_xthp6/croot/httpcore_1748526065845/work\n",
      "httpx @ file:///C:/b/abs_9fclaf1b46/croot/httpx_1746747856672/work\n",
      "hvplot @ file:///C:/b/abs_3ack78yhuc/croot/hvplot_1746471225135/work\n",
      "hyperlink @ file:///tmp/build/80754af9/hyperlink_1610130746837/work\n",
      "idna @ file:///C:/Users/dev-admin/perseverance-python-buildout/croot/idna_1729038997316/work\n",
      "imageio @ file:///C:/b/abs_4cup9zfkvm/croot/imageio_1738160462075/work\n",
      "imagesize @ file:///C:/Users/dev-admin/perseverance-python-buildout/croot/imagesize_1729042613392/work\n",
      "imbalanced-learn @ file:///C:/b/abs_e61qnz168l/croot/imbalanced-learn_1738614381129/work\n",
      "importlib_metadata @ file:///C:/b/abs_9d0lp1ysmt/croot/importlib_metadata-suite_1732633510972/work\n",
      "incremental @ file:///croot/incremental_1743512672142/work\n",
      "inflection @ file:///C:/Users/dev-admin/perseverance-python-buildout/croot/inflection_1729054658204/work\n",
      "iniconfig @ file:///home/linux1/recipes/ci/iniconfig_1610983019677/work\n",
      "intake @ file:///C:/Users/dev-admin/buildout/perseverance-python-buildout/croot/intake_1731720911628/work\n",
      "intervaltree @ file:///Users/ktietz/demo/mc3/conda-bld/intervaltree_1630511889664/work\n",
      "ipykernel @ file:///C:/b/abs_6c9ggygp01/croot/ipykernel_1737660720620/work\n",
      "ipython @ file:///C:/b/abs_8eyhzleyrk/croot/ipython_1734548134403/work\n",
      "ipywidgets @ file:///C:/Users/dev-admin/buildout/croot/ipywidgets_1739561466014/work\n",
      "isort @ file:///C:/b/abs_7es817tui1/croot/isort_1741285183905/work\n",
      "itemadapter @ file:///tmp/build/80754af9/itemadapter_1626442940632/work\n",
      "itemloaders @ file:///C:/b/abs_f35dqz89dk/croot/itemloaders_1743513855167/work\n",
      "itsdangerous @ file:///C:/Users/dev-admin/buildout/croot/itsdangerous_1732929022589/work\n",
      "jaraco.classes @ file:///tmp/build/80754af9/jaraco.classes_1620983179379/work\n",
      "jaraco.context @ file:///C:/Users/dev-admin/buildout/perseverance-python-buildout/croot/jaraco.context_1731721000658/work\n",
      "jaraco.functools @ file:///C:/b/abs_a1jv6v_pzp/croot/jaraco.functools_1740408129620/work\n",
      "jedi @ file:///C:/b/abs_3a2kbnlclc/croot/jedi_1733987412687/work\n",
      "jellyfish @ file:///C:/b/abs_c5ua9cti7n/croot/jellyfish_1736367467867/work\n",
      "Jinja2 @ file:///C:/b/abs_920kup4e6u/croot/jinja2_1741711580669/work\n",
      "jinja2-time @ file:///opt/conda/conda-bld/jinja2-time_1649251842261/work\n",
      "jmespath @ file:///C:/Users/dev-admin/perseverance-python-buildout/croot/jmespath_1729040936778/work\n",
      "joblib @ file:///C:/Users/dev-admin/perseverance-python-buildout/croot/joblib_1729044354027/work\n",
      "json5 @ file:///C:/Users/dev-admin/buildout/perseverance-python-buildout/croot/json5_1731702258507/work\n",
      "jsonpatch @ file:///C:/Users/dev-admin/perseverance-python-buildout/croot/jsonpatch_1729054776004/work\n",
      "jsonpointer==2.1\n",
      "jsonschema @ file:///C:/Users/dev-admin/perseverance-python-buildout/croot/jsonschema_1729038205597/work\n",
      "jsonschema-specifications @ file:///C:/Users/dev-admin/perseverance-python-buildout/croot/jsonschema-specifications_1729038014449/work\n",
      "jupyter @ file:///C:/Users/dev-admin/buildout/croot/jupyter_1742594998199/work\n",
      "jupyter-console @ file:///C:/Users/dev-admin/buildout/croot/jupyter_console_1739561496258/work\n",
      "jupyter-events @ file:///C:/b/abs_9cm3qlticu/croot/jupyter_events_1741184612840/work\n",
      "jupyter-lsp @ file:///C:/b/abs_7171flzdkg/croot/jupyter-lsp-meta_1745827033118/work\n",
      "jupyter_client @ file:///C:/Users/dev-admin/cr_pywin32-feedstock/jupyter_client_1737578476951/work\n",
      "jupyter_core @ file:///C:/Users/dev-admin/cr_pywin32-feedstock/jupyter_core_1737578310964/work\n",
      "jupyter_server @ file:///C:/b/abs_dd442s1uya/croot/jupyter_server_1741206396661/work\n",
      "jupyter_server_terminals @ file:///C:/b/abs_adjrm9dtns/croot/jupyter_server_terminals_1744706714294/work\n",
      "jupyterlab @ file:///C:/Users/dev-admin/buildout/croot/jupyterlab_1742593098977/work\n",
      "jupyterlab_pygments @ file:///C:/b/abs_d5alfet8m6/croot/jupyterlab_pygments_1741124274578/work\n",
      "jupyterlab_server @ file:///C:/Users/dev-admin/buildout/croot/jupyterlab_server_1742592635158/work\n",
      "jupyterlab_widgets @ file:///C:/Users/dev-admin/buildout/croot/jupyterlab_widgets_1739560423822/work\n",
      "keyring @ file:///C:/b/abs_596d81ux2c/croot/keyring_1745484709696/work\n",
      "kiwisolver @ file:///C:/b/abs_faf90xet7a/croot/kiwisolver_1737040915779/work\n",
      "lazy_loader @ file:///C:/Users/dev-admin/perseverance-python-buildout/croot/lazy_loader_1729054947204/work\n",
      "lckr_jupyterlab_variableinspector @ file:///C:/b/abs_a7k1hndm37/croot/jupyterlab-variableinspector_1744638305846/work\n",
      "libarchive-c @ file:///croot/python-libarchive-c_1726069797193/work\n",
      "libmambapy @ file:///C:/b/abs_627vsv8bhu/croot/mamba-split_1734469608328/work/libmambapy\n",
      "lief @ file:///C:/b/abs_09r5ljk_b3/croot/lief_1746658729608/work/api/python\n",
      "linkify-it-py @ file:///C:/Users/dev-admin/perseverance-python-buildout/croot/linkify-it-py_1729048789558/work\n",
      "llvmlite @ file:///C:/b/abs_da51wefv9a/croot/llvmlite_1741209883316/work\n",
      "lmdb @ file:///C:/b/abs_2decx3xz4y/croot/python-lmdb_1736541366547/work\n",
      "locket @ file:///C:/Users/dev-admin/perseverance-python-buildout/croot/locket_1729042822914/work\n",
      "lxml==5.3.0\n",
      "lz4 @ file:///C:/b/abs_8ep7mb2x8a/croot/lz4_1736369996037/work\n",
      "Mako @ file:///C:/Users/dev-admin/perseverance-python-buildout/croot/mako_1729048828184/work\n",
      "Markdown @ file:///C:/b/abs_f9hbi7znfr/croot/markdown_1746114643651/work\n",
      "markdown-it-py @ file:///C:/Users/dev-admin/perseverance-python-buildout/croot/markdown-it-py_1729039967492/work\n",
      "MarkupSafe @ file:///C:/b/abs_a0ma7ge0jc/croot/markupsafe_1738584052792/work\n",
      "matplotlib==3.10.0\n",
      "matplotlib-inline @ file:///C:/Users/dev-admin/buildout/croot/matplotlib-inline_1732914206474/work\n",
      "mccabe @ file:///opt/conda/conda-bld/mccabe_1644221741721/work\n",
      "mdit-py-plugins @ file:///C:/Users/dev-admin/perseverance-python-buildout/croot/mdit-py-plugins_1729048896699/work\n",
      "mdurl @ file:///C:/Users/dev-admin/perseverance-python-buildout/croot/mdurl_1729039154828/work\n",
      "menuinst @ file:///C:/b/abs_fblttj5gp1/croot/menuinst_1738943438301/work\n",
      "mistune @ file:///C:/b/abs_77yql3poyz/croot/mistune_1741124004410/work\n",
      "mkl-service==2.4.0\n",
      "mkl_fft @ file:///C:/Users/dev-admin/mkl/mkl_fft_1730824198951/work\n",
      "mkl_random @ file:///C:/Users/dev-admin/mkl/mkl_random_1730824302834/work\n",
      "more-itertools @ file:///C:/Users/dev-admin/perseverance-python-buildout/croot/more-itertools_1729041136717/work\n",
      "mpmath @ file:///C:/Users/dev-admin/perseverance-python-buildout/croot/mpmath_1729048934933/work\n",
      "msgpack @ file:///C:/Users/dev-admin/perseverance-python-buildout/croot/msgpack-python_1729048979472/work\n",
      "multidict @ file:///C:/b/abs_19e3ubo2ew/croot/multidict_1730905504444/work\n",
      "multipledispatch @ file:///C:/Users/dev-admin/perseverance-python-buildout/croot/multipledispatch_1729042961798/work\n",
      "mypy @ file:///C:/b/abs_6epbyye_k3/croot/mypy-split_1736792006114/work\n",
      "mypy_extensions @ file:///C:/Users/dev-admin/perseverance-python-buildout/croot/mypy_extensions_1729049023435/work\n",
      "narwhals @ file:///C:/b/abs_224ub5a528/croot/narwhals_1742845975749/work\n",
      "navigator-updater @ file:///C:/b/abs_75jnsxvk0b/croot/navigator-updater_1744666454242/work\n",
      "nb_conda_kernels @ file:///C:/b/abs_075dv0fqkv/croot/nb_conda_kernels_1744229699132/work\n",
      "nbclient @ file:///C:/b/abs_a09c4t3h8x/croot/nbclient_1741124030330/work\n",
      "nbconvert @ file:///C:/b/abs_c27_60dzt8/croot/nbconvert-meta_1741191385337/work\n",
      "nbformat @ file:///C:/Users/dev-admin/buildout/croot/nbformat_1739559077024/work\n",
      "nest_asyncio @ file:///C:/Users/dev-admin/perseverance-python-buildout/croot/nest-asyncio_1729042999160/work\n",
      "networkx @ file:///C:/b/abs_b054htfn9t/croot/networkx_1737043671910/work\n",
      "nltk @ file:///C:/Users/dev-admin/perseverance-python-buildout/croot/nltk_1729060873801/work\n",
      "notebook @ file:///C:/b/abs_a9fyfijr7c/croot/notebook_1749741813833/work\n",
      "notebook_shim @ file:///C:/b/abs_9ctyfgpncn/croot/notebook-shim_1741707829491/work\n",
      "numba @ file:///C:/b/abs_f42h_j9bwg/croot/numba_1740668206517/work\n",
      "numexpr @ file:///C:/Users/dev-admin/buildout/perseverance-python-buildout/croot/numexpr_1731700337214/work\n",
      "numpy @ file:///C:/b/abs_25aj347ekn/croot/numpy_and_numpy_base_1730835595898/work/dist/numpy-2.1.3-cp313-cp313-win_amd64.whl#sha256=17b3f31ca0015b3dd2f7d7078af5b282907dcd54522d8ba9dbb868e6a654f320\n",
      "numpydoc @ file:///C:/Users/dev-admin/buildout/croot/numpydoc_1732930470179/work\n",
      "openpyxl @ file:///C:/b/abs_6cdczthntz/croot/openpyxl_1736371239628/work\n",
      "overrides @ file:///C:/Users/dev-admin/perseverance-python-buildout/croot/overrides_1729041221570/work\n",
      "packaging @ file:///C:/b/abs_3by6s2fa66/croot/packaging_1734472138782/work\n",
      "pandas @ file:///C:/b/abs_e18w9ay4we/croot/pandas_1732735115740/work/dist/pandas-2.2.3-cp313-cp313-win_amd64.whl#sha256=89153934c68f42239148879a6c0fd8bb5004e767550db26257dc4551ad0414d7\n",
      "pandocfilters @ file:///opt/conda/conda-bld/pandocfilters_1643405455980/work\n",
      "panel @ file:///C:/b/abs_94csf26rqz/croot/panel_1747424488019/work\n",
      "param @ file:///C:/Users/dev-admin/buildout/croot/param_1739560661012/work\n",
      "parsel @ file:///C:/Users/dev-admin/buildout/croot/parsel_1732922877478/work\n",
      "parso @ file:///C:/b/abs_834b4mj92b/croot/parso_1733963322289/work\n",
      "partd @ file:///C:/b/abs_e1k4ow1dv4/croot/partd_1736803443606/work\n",
      "pathspec @ file:///C:/Users/dev-admin/perseverance-python-buildout/croot/pathspec_1729036384737/work\n",
      "patsy @ file:///C:/b/abs_f9h0eiedk0/croot/patsy_1738159949276/work\n",
      "pexpect @ file:///tmp/build/80754af9/pexpect_1605563209008/work\n",
      "pickleshare @ file:///tmp/build/80754af9/pickleshare_1606932040724/work\n",
      "pillow @ file:///C:/b/abs_68t826txdy/croot/pillow_1744613085333/work\n",
      "pkce @ file:///C:/Users/dev-admin/perseverance-python-buildout/croot/pkce_1729049216383/work\n",
      "pkginfo @ file:///C:/b/abs_79p91g_cie/croot/pkginfo_1743184772345/work\n",
      "platformdirs @ file:///C:/b/abs_ddh15014or/croot/platformdirs_1744273060660/work\n",
      "plotly @ file:///C:/b/abs_28qon8a90a/croot/plotly_1740385581534/work\n",
      "pluggy @ file:///C:/b/abs_dfec_m79vo/croot/pluggy_1733170145382/work\n",
      "ply @ file:///C:/Users/dev-admin/perseverance-python-buildout/croot/ply_1729041337918/work\n",
      "poyo @ file:///tmp/build/80754af9/poyo_1617751526755/work\n",
      "prometheus_client @ file:///C:/b/abs_8b175q_ub8/croot/prometheus_client_1744271638821/work\n",
      "prompt_toolkit @ file:///C:/Users/dev-admin/perseverance-python-buildout/croot/prompt-toolkit_1729096615940/work\n",
      "propcache @ file:///C:/b/abs_57780xb0gk/croot/propcache_1744012740137/work\n",
      "Protego @ file:///C:/b/abs_48sti5uql_/croot/protego_1746479771804/work\n",
      "protobuf @ file:///C:/b/abs_b5v84rwh56/croot/protobuf_1742419721750/work/bazel-bin/python/dist/protobuf-5.29.3-cp313-abi3-win_amd64.whl#sha256=0ef6aadfdcd9f988cbfc2d48eb8f7ed3d64acc158314c82a3a9c456f3fcc53a4\n",
      "psutil @ file:///C:/b/abs_b5gv3mn55h/croot/psutil_1736371546320/work\n",
      "ptyprocess @ file:///tmp/build/80754af9/ptyprocess_1609355006118/work/dist/ptyprocess-0.7.0-py2.py3-none-any.whl\n",
      "pure-eval @ file:///opt/conda/conda-bld/pure_eval_1646925070566/work\n",
      "py-cpuinfo @ file:///C:/Users/dev-admin/perseverance-python-buildout/croot/py-cpuinfo_1729051209925/work\n",
      "pyarrow @ file:///C:/b/abs_0aneze9pgl/croot/pyarrow_1738229440651/work/python\n",
      "pyasn1 @ file:///Users/ktietz/demo/mc3/conda-bld/pyasn1_1629708007385/work\n",
      "pyasn1-modules==0.2.8\n",
      "pycodestyle @ file:///C:/Users/dev-admin/perseverance-python-buildout/croot/pycodestyle_1729051264017/work\n",
      "pycosat @ file:///C:/b/abs_18nblzzn70/croot/pycosat_1736868434419/work\n",
      "pycparser @ file:///tmp/build/80754af9/pycparser_1636541352034/work\n",
      "pyct @ file:///C:/Users/dev-admin/buildout/perseverance-python-buildout/croot/pyct_1731730439568/work\n",
      "pycurl @ file:///C:/b/abs_60b5cviggn/croot/pycurl_1744743621149/work\n",
      "pydantic @ file:///C:/b/abs_27dx58x550/croot/pydantic_1734736090499/work\n",
      "pydantic-settings @ file:///C:/Users/dev-admin/buildout/croot/pydantic-settings_1735846821890/work\n",
      "pydantic_core @ file:///C:/b/abs_bdosz7qwys/croot/pydantic-core_1734726071532/work\n",
      "PyDispatcher @ file:///C:/Users/dev-admin/perseverance-python-buildout/croot/pydispatcher_1729062105269/work\n",
      "pydocstyle @ file:///C:/Users/dev-admin/perseverance-python-buildout/croot/pydocstyle_1729055775306/work\n",
      "pyerfa @ file:///C:/b/abs_35x4fn08_4/croot/pyerfa_1738083087918/work\n",
      "pyflakes @ file:///C:/Users/dev-admin/perseverance-python-buildout/croot/pyflakes_1729051360949/work\n",
      "PyGithub @ file:///C:/Users/dev-admin/buildout/perseverance-python-buildout/croot/pygithub_1731745080304/work\n",
      "Pygments @ file:///C:/b/abs_e4bg5vh5j_/croot/pygments_1744667628203/work\n",
      "PyJWT @ file:///C:/Users/dev-admin/buildout/croot/pyjwt_1739559988030/work\n",
      "pylint @ file:///C:/b/abs_52tcgdpqsk/croot/pylint_1743709218105/work\n",
      "pylint-venv @ file:///C:/Users/dev-admin/perseverance-python-buildout/croot/pylint-venv_1729062196487/work\n",
      "pyls-spyder==0.4.0\n",
      "PyNaCl @ file:///C:/b/abs_b9cyxk0xhf/croot/pynacl_1736542112237/work\n",
      "pyodbc @ file:///C:/b/abs_908vw1e38j/croot/pyodbc_1737479651089/work\n",
      "pyOpenSSL @ file:///C:/b/abs_6cmmt1gx_z/croot/pyopenssl_1741343840223/work\n",
      "pyparsing @ file:///C:/Users/dev-admin/buildout/croot/pyparsing_1735861809022/work\n",
      "PyQt5==5.15.10\n",
      "PyQt5_sip @ file:///C:/b/abs_d1i1jr9fgt/croot/pyqt-split_1736540551157/work/pyqt_sip\n",
      "PyQtWebEngine==5.15.6\n",
      "PySocks @ file:///C:/Users/dev-admin/perseverance-python-buildout/croot/pysocks_1729039320841/work\n",
      "pytest @ file:///C:/b/abs_9dllqyhfs_/croot/pytest_1738938859288/work\n",
      "python-dateutil @ file:///C:/Users/dev-admin/perseverance-python-buildout/croot/python-dateutil_1729038406576/work\n",
      "python-dotenv @ file:///C:/b/abs_71cpoh9hpg/croot/python-dotenv_1745613639902/work\n",
      "python-json-logger @ file:///C:/b/abs_0cm_mnox0z/croot/python-json-logger_1734370042436/work\n",
      "python-lsp-black @ file:///C:/b/abs_56xq_70uqy/croot/python-lsp-black_1744023225294/work\n",
      "python-lsp-jsonrpc @ file:///croot/python-lsp-jsonrpc_1708962872556/work\n",
      "python-lsp-server @ file:///C:/b/abs_dd5ho9pgae/croot/python-lsp-server_1743715808372/work\n",
      "python-slugify @ file:///tmp/build/80754af9/python-slugify_1620405669636/work\n",
      "pytoolconfig @ file:///C:/Users/dev-admin/perseverance-python-buildout/croot/pytoolconfig_1729051670797/work\n",
      "pytz @ file:///C:/Users/dev-admin/perseverance-python-buildout/croot/pytz_1729039375330/work\n",
      "pyuca @ file:///C:/Users/dev-admin/perseverance-python-buildout/croot/pyuca_1729099690749/work\n",
      "pyviz_comms @ file:///C:/Users/dev-admin/perseverance-python-buildout/croot/pyviz_comms_1729051705359/work\n",
      "PyWavelets @ file:///C:/b/abs_a8rls0q_ez/croot/pywavelets_1737133696904/work\n",
      "pywin32==308\n",
      "pywin32-ctypes @ file:///C:/Users/dev-admin/perseverance-python-buildout/croot/pywin32-ctypes_1729046491215/work\n",
      "pywinpty @ file:///C:/b/abs_883wh7sts8/croot/pywinpty_1741871674963/work\n",
      "PyYAML @ file:///C:/b/abs_79lqlbkifj/croot/pyyaml_1731006239057/work\n",
      "pyzmq @ file:///C:/b/abs_f3yte6j5yn/croot/pyzmq_1734711069724/work\n",
      "QDarkStyle @ file:///croot/qdarkstyle_1709231003551/work\n",
      "qstylizer @ file:///C:/Users/dev-admin/perseverance-python-buildout/croot/qstylizer_1729063143005/work/dist/qstylizer-0.2.2-py2.py3-none-any.whl#sha256=9e6ed4af5d7d32c75075c807064c85e792b62db8b603152b16608d504e3ed165\n",
      "QtAwesome @ file:///C:/b/abs_f3usq20nxv/croot/qtawesome_1744810809443/work\n",
      "qtconsole @ file:///C:/b/abs_077eiqc5gw/croot/qtconsole_1744633984381/work\n",
      "QtPy @ file:///C:/Users/dev-admin/buildout/perseverance-python-buildout/croot/qtpy_1731712232653/work\n",
      "queuelib @ file:///C:/Users/dev-admin/perseverance-python-buildout/croot/queuelib_1729063235364/work\n",
      "readchar @ file:///C:/Users/dev-admin/perseverance-python-buildout/croot/readchar_1729051800756/work\n",
      "referencing @ file:///C:/Users/dev-admin/perseverance-python-buildout/croot/referencing_1729037987170/work\n",
      "regex @ file:///C:/b/abs_d785r851h6/croot/regex_1736542205858/work\n",
      "requests @ file:///C:/b/abs_c3508vg8ez/croot/requests_1731000584867/work\n",
      "requests-file @ file:///C:/b/abs_804owi11qo/croot/requests-file_1749719355197/work\n",
      "requests-toolbelt @ file:///C:/Users/dev-admin/buildout/perseverance-python-buildout/croot/requests-toolbelt_1731731341115/work\n",
      "rfc3339_validator @ file:///C:/Users/dev-admin/perseverance-python-buildout/croot/rfc3339-validator_1729040163441/work\n",
      "rfc3986_validator @ file:///C:/Users/dev-admin/perseverance-python-buildout/croot/rfc3986-validator_1729040192034/work\n",
      "rich @ file:///C:/b/abs_8b92fzmygg/croot/rich_1732638991774/work\n",
      "roman-numerals-py @ file:///C:/b/abs_c6xpj9atdr/croot/roman-numerals-py_1744666293821/work\n",
      "rope @ file:///C:/b/abs_2232rxaz98/croot/rope_1743709233829/work\n",
      "rpds-py @ file:///C:/b/abs_0c6z5kcdb6/croot/rpds-py_1736545465023/work\n",
      "Rtree @ file:///C:/Users/dev-admin/perseverance-python-buildout/croot/rtree_1729056439058/work\n",
      "ruamel.yaml @ file:///C:/b/abs_0dn1nhdq75/croot/ruamel.yaml_1745960327187/work\n",
      "ruamel.yaml.clib @ file:///C:/b/abs_475flulhy_/croot/ruamel.yaml.clib_1745937166245/work\n",
      "ruamel_yaml_conda @ file:///C:/Users/dev-admin/perseverance-python-buildout/croot/ruamel_yaml_1729063591675/work\n",
      "s3fs @ file:///C:/b/abs_130adxrjmm/croot/s3fs_1747146760526/work\n",
      "scikit-image @ file:///C:/b/abs_081xgoymhl/croot/scikit-image_1737473383970/work\n",
      "scikit-learn @ file:///C:/b/abs_0dwalqot3o/croot/scikit-learn_1737988780693/work/dist/scikit_learn-1.6.1-cp313-cp313-win_amd64.whl#sha256=3e52b503bae0e72bc233231ad5d730537e192e1214e0ac766be348eb9dfb7cfd\n",
      "scipy @ file:///C:/b/abs_71q96u23a4/croot/scipy_1747238057723/work/dist/scipy-1.15.3-cp313-cp313-win_amd64.whl#sha256=b5f3085bbab24a89daa9159000ae3a3fa1590d993aa2bf0d27f4db68d724271c\n",
      "Scrapy @ file:///C:/b/abs_7d5vqiajdd/croot/scrapy_1743540914951/work\n",
      "seaborn @ file:///C:/b/abs_0bv5x0ucxb/croot/seaborn_1749110315600/work\n",
      "semver @ file:///C:/b/abs_6bgol0at6h/croot/semver_1736542515243/work\n",
      "Send2Trash @ file:///C:/b/abs_7e73ol18dl/croot/send2trash_1736542724140/work\n",
      "sentry-sdk @ file:///C:/Users/dev-admin/buildout/croot/sentry-sdk_1735879083852/work\n",
      "service-identity @ file:///C:/b/abs_2bq9_6ah3e/croot/service_identity_1749714991616/work\n",
      "setuptools==72.1.0\n",
      "shellingham @ file:///C:/Users/dev-admin/perseverance-python-buildout/croot/shellingham_1729046672855/work\n",
      "sip @ file:///C:/b/abs_b6twfwtueg/croot/sip_1736544693649/work\n",
      "six @ file:///C:/b/abs_149wuyuo1o/croot/six_1744271521515/work\n",
      "sklearn-compat @ file:///C:/b/abs_2495oc29im/croot/sklearn-compat_1738003941903/work\n",
      "smmap @ file:///tmp/build/80754af9/smmap_1611694433573/work\n",
      "sniffio @ file:///C:/Users/dev-admin/perseverance-python-buildout/croot/sniffio_1729040228331/work\n",
      "snowballstemmer @ file:///tmp/build/80754af9/snowballstemmer_1637937080595/work\n",
      "sortedcontainers @ file:///tmp/build/80754af9/sortedcontainers_1623949099177/work\n",
      "soupsieve @ file:///C:/Users/dev-admin/perseverance-python-buildout/croot/soupsieve_1729039543636/work\n",
      "Sphinx @ file:///C:/b/abs_38umzzph7f/croot/sphinx_1744737150958/work\n",
      "sphinxcontrib-applehelp @ file:///croot/sphinxcontrib-applehelp_1744721330488/work\n",
      "sphinxcontrib-devhelp @ file:///croot/sphinxcontrib-devhelp_1744727995579/work\n",
      "sphinxcontrib-htmlhelp @ file:///croot/sphinxcontrib-htmlhelp_1744718370019/work\n",
      "sphinxcontrib-jsmath @ file:///home/ktietz/src/ci/sphinxcontrib-jsmath_1611920942228/work\n",
      "sphinxcontrib-qthelp @ file:///croot/sphinxcontrib-qthelp_1744721051257/work\n",
      "sphinxcontrib-serializinghtml @ file:///croot/sphinxcontrib-serializinghtml_1744724097162/work\n",
      "spyder @ file:///C:/b/abs_9drsv2xoqd/croot/spyder_1749741990659/work\n",
      "spyder-kernels @ file:///C:/b/abs_0a8wbrmvxw/croot/spyder-kernels_1748642523170/work\n",
      "SQLAlchemy @ file:///C:/b/abs_275ybuj8n_/croot/sqlalchemy_1745854539419/work\n",
      "stack-data @ file:///opt/conda/conda-bld/stack_data_1646927590127/work\n",
      "statsmodels @ file:///C:/b/abs_c797jbabmm/croot/statsmodels_1734018887218/work\n",
      "streamlit @ file:///C:/b/abs_a5vo_b5ysk/croot/streamlit-split_1748963606986/work/streamlit\n",
      "superqt @ file:///C:/b/abs_11kt812ym3/croot/superqt_1743709210824/work\n",
      "sympy @ file:///C:/b/abs_b4u17p23yg/croot/sympy_1738108511395/work\n",
      "tables @ file:///C:/b/abs_e0h8gc4hz7/croot/pytables_1748452085563/work\n",
      "tabulate @ file:///C:/Users/dev-admin/perseverance-python-buildout/croot/tabulate_1729056893645/work\n",
      "tblib @ file:///C:/b/abs_a4ikhoig03/croot/tblib_1749739473644/work\n",
      "tenacity @ file:///C:/Users/dev-admin/buildout/perseverance-python-buildout/croot/tenacity_1731701966482/work\n",
      "terminado @ file:///C:/Users/dev-admin/buildout/croot/terminado_1735844257547/work\n",
      "text-unidecode @ file:///Users/ktietz/demo/mc3/conda-bld/text-unidecode_1629401354553/work\n",
      "textdistance @ file:///C:/Users/dev-admin/buildout/croot/textdistance_1735863571591/work\n",
      "threadpoolctl @ file:///C:/b/abs_3904pspv77/croot/threadpoolctl_1731006105881/work\n",
      "three-merge @ file:///tmp/build/80754af9/three-merge_1607553261110/work\n",
      "tifffile @ file:///C:/b/abs_8aikas7x_4/croot/tifffile_1741164551582/work\n",
      "tinycss2 @ file:///C:/Users/dev-admin/buildout/croot/tinycss2_1739559171127/work\n",
      "tldextract @ file:///C:/Users/dev-admin/buildout/perseverance-python-buildout/croot/tldextract_1731748362836/work\n",
      "toml @ file:///tmp/build/80754af9/toml_1616166611790/work\n",
      "tomli @ file:///C:/Users/dev-admin/perseverance-python-buildout/croot/tomli_1729047129961/work\n",
      "tomlkit @ file:///C:/Users/dev-admin/buildout/perseverance-python-buildout/croot/tomlkit_1731700037073/work\n",
      "toolz @ file:///C:/b/abs_57avamxh36/croot/toolz_1736796279321/work\n",
      "tornado @ file:///C:/b/abs_7dzpc171lf/croot/tornado_1748956950306/work\n",
      "tqdm @ file:///C:/b/abs_0eh9b6xugj/croot/tqdm_1738945553987/work\n",
      "traitlets @ file:///C:/Users/dev-admin/perseverance-python-buildout/croot/traitlets_1729038154689/work\n",
      "truststore @ file:///C:/b/abs_494cm143zh/croot/truststore_1736550137835/work\n",
      "Twisted @ file:///C:/b/abs_65oatfcpaw/croot/twisted_1743537791862/work\n",
      "twisted-iocpsupport @ file:///C:/b/abs_6883jqhfrn/croot/twisted-iocpsupport_1736544552637/work\n",
      "typer @ file:///C:/Users/dev-admin/perseverance-python-buildout/croot/typer_1729052194947/work\n",
      "typing_extensions @ file:///C:/b/abs_0ffjxtihug/croot/typing_extensions_1734714875646/work\n",
      "tzdata @ file:///croot/python-tzdata_1746123641790/work\n",
      "uc-micro-py @ file:///C:/Users/dev-admin/perseverance-python-buildout/croot/uc-micro-py_1729047163092/work\n",
      "ujson @ file:///C:/b/abs_e5a_v6aejl/croot/ujson_1736543954444/work\n",
      "Unidecode @ file:///C:/Users/dev-admin/perseverance-python-buildout/croot/unidecode_1729103602327/work\n",
      "urllib3 @ file:///C:/b/abs_7bst06lizn/croot/urllib3_1737133657081/work\n",
      "w3lib @ file:///C:/Users/dev-admin/perseverance-python-buildout/croot/w3lib_1729052333042/work\n",
      "watchdog @ file:///C:/b/abs_29_7vso69r/croot/watchdog_1740409940307/work\n",
      "wcwidth @ file:///Users/ktietz/demo/mc3/conda-bld/wcwidth_1629357192024/work\n",
      "webencodings @ file:///C:/Users/dev-admin/perseverance-python-buildout/croot/webencodings_1729039571130/work\n",
      "websocket-client @ file:///C:/Users/dev-admin/perseverance-python-buildout/croot/websocket-client_1729041881346/work\n",
      "Werkzeug @ file:///C:/b/abs_c7bupijx2_/croot/werkzeug_1737448709012/work\n",
      "whatthepatch @ file:///C:/Users/dev-admin/perseverance-python-buildout/croot/whatthepatch_1729057332458/work\n",
      "wheel==0.45.1\n",
      "widgetsnbextension @ file:///C:/Users/dev-admin/buildout/croot/widgetsnbextension_1735847225457/work\n",
      "win_inet_pton @ file:///C:/Users/dev-admin/perseverance-python-buildout/croot/win_inet_pton_1729038644686/work\n",
      "wrapt @ file:///C:/b/abs_68gzx33lzh/croot/wrapt_1736543196433/work\n",
      "xarray @ file:///C:/b/abs_11s3bnmez3/croot/xarray_1749192866207/work\n",
      "xlwings @ file:///C:/b/abs_e58r82ek19/croot/xlwings_1743513451045/work\n",
      "xyzservices @ file:///C:/Users/dev-admin/perseverance-python-buildout/croot/xyzservices_1729047258632/work\n",
      "yapf @ file:///C:/Users/dev-admin/perseverance-python-buildout/croot/yapf_1729057456500/work\n",
      "yarl @ file:///C:/b/abs_281qby2vim/croot/yarl_1732546854547/work\n",
      "zict @ file:///C:/Users/dev-admin/perseverance-python-buildout/croot/zict_1729052457267/work\n",
      "zipp @ file:///C:/b/abs_2fcpcg89my/croot/zipp_1732630746332/work\n",
      "zope.interface @ file:///C:/Users/dev-admin/buildout/croot/zope.interface_1735850995906/work\n",
      "zstandard @ file:///C:/b/abs_31t8xmrv_h/croot/zstandard_1731356578015/work\n",
      "Note: you may need to restart the kernel to use updated packages.\n"
     ]
    }
   ],
   "source": [
    "pip freeze\n"
   ]
  },
  {
   "cell_type": "code",
   "execution_count": 1,
   "id": "7eb0ef95-1ff5-45bc-b41a-f16e30b5403e",
   "metadata": {},
   "outputs": [
    {
     "name": "stdin",
     "output_type": "stream",
     "text": [
      "enter a no  3\n",
      "enter a no  34\n",
      "enter a no  4\n",
      "enter a no  5\n",
      "enter a no  6\n"
     ]
    },
    {
     "name": "stdout",
     "output_type": "stream",
     "text": [
      "[3, 34, 4, 5, 6]\n"
     ]
    }
   ],
   "source": [
    "l=[]\n",
    "c\n",
    "c =(int(input(\"enter a no \")))\n",
    "d =(int(input(\"enter a no \")))\n",
    "e=(int(input(\"enter a no \")))\n",
    "l.append(a)\n",
    "l.append(b)\n",
    "l.append(c)\n",
    "l.append(d)\n",
    "l.append(e)\n",
    "print(l)"
   ]
  },
  {
   "cell_type": "code",
   "execution_count": 5,
   "id": "d215ee60-a9b7-4889-a080-b28f29216aca",
   "metadata": {},
   "outputs": [
    {
     "name": "stdout",
     "output_type": "stream",
     "text": [
      "[1, 2, 3, 4, 5, 6]\n"
     ]
    }
   ],
   "source": [
    "l1=[1,2,3]\n",
    "l2=[4,5,6]\n",
    "l1.extend(l2)\n",
    "print(l1)"
   ]
  },
  {
   "cell_type": "code",
   "execution_count": 16,
   "id": "d52ae040-4aba-4fad-a7c2-adda25b2d325",
   "metadata": {},
   "outputs": [
    {
     "ename": "TypeError",
     "evalue": "input() takes 0 positional arguments but 1 was given",
     "output_type": "error",
     "traceback": [
      "\u001b[1;31m---------------------------------------------------------------------------\u001b[0m",
      "\u001b[1;31mTypeError\u001b[0m                                 Traceback (most recent call last)",
      "Cell \u001b[1;32mIn[16], line 15\u001b[0m\n\u001b[0;32m     11\u001b[0m     a \u001b[38;5;241m=\u001b[39m\u001b[38;5;28minput\u001b[39m(\u001b[38;5;124m\"\u001b[39m\u001b[38;5;124menter a  m for male and f for female\u001b[39m\u001b[38;5;124m\"\u001b[39m)\n\u001b[0;32m     12\u001b[0m     l\u001b[38;5;241m.\u001b[39mappend(a)\n\u001b[1;32m---> 15\u001b[0m fill()\n\u001b[0;32m     16\u001b[0m family()\n",
      "Cell \u001b[1;32mIn[16], line 11\u001b[0m, in \u001b[0;36mfill\u001b[1;34m()\u001b[0m\n\u001b[0;32m     10\u001b[0m \u001b[38;5;28;01mdef\u001b[39;00m\u001b[38;5;250m \u001b[39m\u001b[38;5;21mfill\u001b[39m():\n\u001b[1;32m---> 11\u001b[0m     a \u001b[38;5;241m=\u001b[39m\u001b[38;5;28minput\u001b[39m(\u001b[38;5;124m\"\u001b[39m\u001b[38;5;124menter a  m for male and f for female\u001b[39m\u001b[38;5;124m\"\u001b[39m)\n\u001b[0;32m     12\u001b[0m     l\u001b[38;5;241m.\u001b[39mappend(a)\n",
      "\u001b[1;31mTypeError\u001b[0m: input() takes 0 positional arguments but 1 was given"
     ]
    }
   ],
   "source": [
    "l=[]\n",
    "def family():\n",
    "    for i in l:\n",
    "        if 'm'<'f':\n",
    "            print(\"female dominant family  \")\n",
    "        elif 'm'>'f':\n",
    "            print(\"male dominant family  \")\n",
    "        elif 'm'>='f' or 'm'<='f':\n",
    "            print(\" family  \")\n",
    "def fill():\n",
    "    a =input(\"enter a  m for male and f for female\")\n",
    "    l.append(a)\n",
    "    \n",
    "     \n",
    "fill()\n",
    "family()\n",
    "        \n",
    "        "
   ]
  }
 ],
 "metadata": {
  "kernelspec": {
   "display_name": "Python [conda env:base] *",
   "language": "python",
   "name": "conda-base-py"
  },
  "language_info": {
   "codemirror_mode": {
    "name": "ipython",
    "version": 3
   },
   "file_extension": ".py",
   "mimetype": "text/x-python",
   "name": "python",
   "nbconvert_exporter": "python",
   "pygments_lexer": "ipython3",
   "version": "3.13.5"
  }
 },
 "nbformat": 4,
 "nbformat_minor": 5
}
